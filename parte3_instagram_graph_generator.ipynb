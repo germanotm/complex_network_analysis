{
 "cells": [
  {
   "cell_type": "markdown",
   "metadata": {
    "colab_type": "text",
    "id": "V_mGfEjDLfgS"
   },
   "source": [
    "# README"
   ]
  },
  {
   "cell_type": "markdown",
   "metadata": {},
   "source": [
    "This notebook creates the graphs and perform basic analysis of the data.\n",
    "\n",
    "We use the data stored in `data.json` file, which has the following structure:\n",
    "\n",
    "- It is a dictionary and the keys are the initial target tags\n",
    "- The values for each of these keys are lists of post data dictionaries\n",
    "- Each dictionary has information about the post and a list of tags"
   ]
  },
  {
   "cell_type": "markdown",
   "metadata": {
    "colab_type": "text",
    "id": "hQUinc_5LvTg"
   },
   "source": [
    "# Preparing Data"
   ]
  },
  {
   "cell_type": "markdown",
   "metadata": {},
   "source": [
    "With all the data collected in previous notebook, it is time to analyse it."
   ]
  },
  {
   "cell_type": "markdown",
   "metadata": {
    "colab_type": "text",
    "id": "EKeeQp08Vi2T"
   },
   "source": [
    "## Loading Previous Data"
   ]
  },
  {
   "cell_type": "code",
   "execution_count": 1,
   "metadata": {
    "colab": {},
    "colab_type": "code",
    "id": "wts0MNhxtZC7"
   },
   "outputs": [],
   "source": [
    "# link to access the data.json file\n",
    "share_url = 'https://drive.google.com/open?id=1L0vboR9Y7u7VH6gwf78AlLCFh7p-iZ0D'\n",
    "\n",
    "# link do download the data.json file\n",
    "download_url = 'https://drive.google.com/uc?export=download&id=' + '1L0vboR9Y7u7VH6gwf78AlLCFh7p-iZ0D'"
   ]
  },
  {
   "cell_type": "code",
   "execution_count": 2,
   "metadata": {
    "colab": {},
    "colab_type": "code",
    "id": "lIgV1EQ3tiiq"
   },
   "outputs": [],
   "source": [
    "# download the data.json file if the notebook is running on google colab\n",
    "!wget \"https://drive.google.com/uc?export=download&id=1L0vboR9Y7u7VH6gwf78AlLCFh7p-iZ0D\" -nc -q -O \"data.json\""
   ]
  },
  {
   "cell_type": "code",
   "execution_count": 11,
   "metadata": {
    "colab": {},
    "colab_type": "code",
    "id": "ZHtCSWAMt4La"
   },
   "outputs": [],
   "source": [
    "# reading the data.json file\n",
    "\n",
    "import json\n",
    "\n",
    "file = open('data.json')\n",
    "\n",
    "data_json = json.load(file)"
   ]
  },
  {
   "cell_type": "markdown",
   "metadata": {
    "colab_type": "text",
    "id": "dmKqNTNJVnof"
   },
   "source": [
    "## Creating Lists of Edges"
   ]
  },
  {
   "cell_type": "markdown",
   "metadata": {},
   "source": [
    "We want to construct a graph, so we need to retrieve the nodes and establish the edges between them.\n",
    "\n",
    "As we are going to analyse the hashtags in posts text, they will be our nodes.\n",
    "\n",
    "Two nodes will be connected if they were posted together at least once.\n",
    "\n",
    "As expected, data collection is not perfect, and lots of trash came to the tags lists in the posts.\n",
    "\n",
    "So, we need to filter them, and the function bellow does this task."
   ]
  },
  {
   "cell_type": "code",
   "execution_count": 12,
   "metadata": {
    "colab": {},
    "colab_type": "code",
    "id": "-4wRgfLLxMme"
   },
   "outputs": [],
   "source": [
    "import re\n",
    "    \n",
    "def validate_tag(tag):\n",
    "    \n",
    "    \"\"\"\n",
    "    Checks if a tag is valid according to its contents and size\n",
    "    \"\"\"\n",
    "\n",
    "    MAX_LEN = 25\n",
    "    MIN_LEN = 1\n",
    "\n",
    "    #pattern = '^[a-zA-Z0-9]+$'\n",
    "    pattern = \"^[-'a-zA-ZÀ-ÖØ-öø-ÿ0-9]+$\" # allow accent\n",
    "    \n",
    "    if re.match(pattern, tag) and len(tag) < MAX_LEN and len(tag) > MIN_LEN :\n",
    "        return True\n",
    "    else :\n",
    "        return False"
   ]
  },
  {
   "cell_type": "markdown",
   "metadata": {},
   "source": [
    "**Note**\n",
    "\n",
    "In the code snippet bellow, we create two lists of edges:\n",
    "\n",
    "- The `keys` one refers to the edges between our initial tags (also refered as key tags) and all others.\n",
    "\n",
    "- The `all` one refers to the edges between all tags.\n",
    "\n",
    "After some previous analysis and problems, some improvements were done:\n",
    "\n",
    "- We had problems in importing large graphs to Gephi, lots of errors occurred. So, we limited the number of posts to work with initially.\n",
    "\n",
    "- Lots of selfloop edges were occurring in the key tags. We created a new list without the key tag to perform the connections.\n",
    "\n",
    "- The same edge between the tags were being added more than once for each post. We created a slice of the tags to prevent it.\n",
    "\n",
    "- When calculating the edge weight in next steps, the value was divided in two, because the source and target nodes were swapped. So, we appended each edge with nodes sorted alphabetically."
   ]
  },
  {
   "cell_type": "code",
   "execution_count": 17,
   "metadata": {},
   "outputs": [
    {
     "data": {
      "text/plain": [
       "{'id_post': '2432898161887553073',\n",
       " 'id_owner': '44427672855',\n",
       " 'shortcode': 'CHDY_z6AiYx',\n",
       " 'text': 'Classical caldwell approach (canine fossa radical antrostomy) for retrieval of displaced root of maxillary tooth from maxillary antrum/sinus.24 year old female .. reffered for removal of displaced mesiobuccal root of maxillary second molar from sinus.. lateral window antrostomy.. The tooth root was visualized and removed with help of suction tip.. ((video))Incision was distally extended to d socket site and primary closure with buccal advancement was done to avoid possible oro antral communication..#oralsurgery #extraction #impacted #thirdmolar #dentistry #dentistrystudents #dentist #minorsurgery #dental #wisdomtooth #wisdomtoothremoval #wisdomtoothextraction #wisdomtoothsurgery #dentalsurgery #dentalpassion #maxillarysinus #sinusitis #caldwell #antrum',\n",
       " 'post_url': 'https://www.instagram.com/p/CHDY_z6AiYx/',\n",
       " 'tags': ['oralsurgery',\n",
       "  'extraction',\n",
       "  'impacted',\n",
       "  'thirdmolar',\n",
       "  'dentistry',\n",
       "  'dentistrystudents',\n",
       "  'dentist',\n",
       "  'minorsurgery',\n",
       "  'dental',\n",
       "  'wisdomtooth',\n",
       "  'wisdomtoothremoval',\n",
       "  'wisdomtoothextraction',\n",
       "  'wisdomtoothsurgery',\n",
       "  'dentalsurgery',\n",
       "  'dentalpassion',\n",
       "  'maxillarysinus',\n",
       "  'sinusitis',\n",
       "  'caldwell',\n",
       "  'antrum']}"
      ]
     },
     "execution_count": 17,
     "metadata": {},
     "output_type": "execute_result"
    }
   ],
   "source": [
    "data_json['thirdmolar'][0]"
   ]
  },
  {
   "cell_type": "code",
   "execution_count": 5,
   "metadata": {
    "colab": {
     "base_uri": "https://localhost:8080/",
     "height": 53
    },
    "colab_type": "code",
    "executionInfo": {
     "elapsed": 1405,
     "status": "ok",
     "timestamp": 1561051934451,
     "user": {
      "displayName": "MARCOS JUNIOR",
      "photoUrl": "",
      "userId": "02126454598504023629"
     },
     "user_tz": 180
    },
    "id": "zjW1x423WPLM",
    "outputId": "fb961eda-ef7a-482c-f638-aa222e4f8228"
   },
   "outputs": [],
   "source": [
    "# trying a limitation in the number of posts\n",
    "POSTS_MAX = 100\n",
    "\n",
    "# this list contains just edges from initial target (keys) tags to related post tags\n",
    "edges_list_keys = []\n",
    "\n",
    "# this list contains all edges between pairs of tags from the same post\n",
    "edges_list_all = []\n",
    "\n",
    "# populating the lists of edges\n",
    "for person, posts in data_json.items() :\n",
    "    \n",
    "    # traversing each post for each key tag\n",
    "    for post in posts[:POSTS_MAX] :\n",
    "        \n",
    "        # list of tags in the post including trash tags\n",
    "        post_tags = post['tags']\n",
    "        \n",
    "        # list of tags in the post after filtering\n",
    "        post_tags = [tag for tag in post_tags if validate_tag(tag)]\n",
    "        \n",
    "        # list of tags without the key tag\n",
    "        post_tags_drop_person = [tag for tag in post_tags if not tag == person]\n",
    "        \n",
    "        # creating edges between key tag and all others\n",
    "        for tag in post_tags_drop_person :\n",
    "            \n",
    "            edge_keys = (person, tag)\n",
    "            \n",
    "            edges_list_keys.append( edge_keys )\n",
    "        \n",
    "        # creating the edges between all the tags\n",
    "        for tag in post_tags :\n",
    "            \n",
    "            # index of the current tag in the list\n",
    "            tag_index = post_tags.index(tag)\n",
    "            \n",
    "            # this slice is needed in order to connect all edges one and only on time\n",
    "            post_tags_slice = post_tags[tag_index+1:]\n",
    "            \n",
    "            for stag in post_tags_slice :\n",
    "                \n",
    "                edge_all_pre = (tag, stag)\n",
    "                \n",
    "                # creating the edge element in alphabetical order\n",
    "                edge_all = ( min(edge_all_pre) , max(edge_all_pre) )\n",
    "                \n",
    "                edges_list_all.append( edge_all )"
   ]
  },
  {
   "cell_type": "code",
   "execution_count": 6,
   "metadata": {
    "colab": {
     "base_uri": "https://localhost:8080/",
     "height": 35
    },
    "colab_type": "code",
    "executionInfo": {
     "elapsed": 707,
     "status": "ok",
     "timestamp": 1561051938447,
     "user": {
      "displayName": "MARCOS JUNIOR",
      "photoUrl": "",
      "userId": "02126454598504023629"
     },
     "user_tz": 180
    },
    "id": "IHp52LpPyXt_",
    "outputId": "679cc96a-68f1-4d02-9396-41efb7220787"
   },
   "outputs": [
    {
     "name": "stdout",
     "output_type": "stream",
     "text": [
      "Numbers of edges:\n",
      "10518\n",
      "123209\n"
     ]
    }
   ],
   "source": [
    "print('Numbers of edges:')\n",
    "\n",
    "print(len(edges_list_keys))\n",
    "\n",
    "print(len(edges_list_all))"
   ]
  },
  {
   "cell_type": "code",
   "execution_count": 7,
   "metadata": {
    "colab": {
     "base_uri": "https://localhost:8080/",
     "height": 196
    },
    "colab_type": "code",
    "executionInfo": {
     "elapsed": 7683,
     "status": "ok",
     "timestamp": 1561051960587,
     "user": {
      "displayName": "MARCOS JUNIOR",
      "photoUrl": "",
      "userId": "02126454598504023629"
     },
     "user_tz": 180
    },
    "id": "emSRuQgOZguX",
    "outputId": "4930bd22-f343-4331-ea38-8e4e3199c7d6"
   },
   "outputs": [
    {
     "data": {
      "text/plain": [
       "[('calabria', 'italia'),\n",
       " ('biologico', 'italia'),\n",
       " ('ciro', 'italia'),\n",
       " ('italia', 'santavenere'),\n",
       " ('enotecar', 'italia'),\n",
       " ('italia', 'italiawineshop'),\n",
       " ('italia', 'sardellacalabrese'),\n",
       " ('biologico', 'calabria'),\n",
       " ('calabria', 'ciro'),\n",
       " ('calabria', 'santavenere')]"
      ]
     },
     "execution_count": 7,
     "metadata": {},
     "output_type": "execute_result"
    }
   ],
   "source": [
    "# checking a sample of edges\n",
    "edges_list_all[:10]"
   ]
  },
  {
   "cell_type": "code",
   "execution_count": 8,
   "metadata": {
    "colab": {
     "base_uri": "https://localhost:8080/",
     "height": 196
    },
    "colab_type": "code",
    "executionInfo": {
     "elapsed": 8250,
     "status": "ok",
     "timestamp": 1561051961374,
     "user": {
      "displayName": "MARCOS JUNIOR",
      "photoUrl": "",
      "userId": "02126454598504023629"
     },
     "user_tz": 180
    },
    "id": "UssN8L9cydo1",
    "outputId": "69bc6638-e770-477b-8ad6-72c23058c9e7"
   },
   "outputs": [
    {
     "data": {
      "text/plain": [
       "[('ciro', 'italia'),\n",
       " ('ciro', 'calabria'),\n",
       " ('ciro', 'biologico'),\n",
       " ('ciro', 'santavenere'),\n",
       " ('ciro', 'enotecar'),\n",
       " ('ciro', 'italiawineshop'),\n",
       " ('ciro', 'sardellacalabrese'),\n",
       " ('ciro', 'rock'),\n",
       " ('ciro', 'rocknacional'),\n",
       " ('ciro', 'rockargento')]"
      ]
     },
     "execution_count": 8,
     "metadata": {},
     "output_type": "execute_result"
    }
   ],
   "source": [
    "# checking a sample of edges\n",
    "edges_list_keys[:10]"
   ]
  },
  {
   "cell_type": "markdown",
   "metadata": {
    "colab_type": "text",
    "id": "KsAQHutBylRs"
   },
   "source": [
    "# Handling List of All Edges"
   ]
  },
  {
   "cell_type": "markdown",
   "metadata": {
    "colab_type": "text",
    "id": "pfZOTgDkTvKI"
   },
   "source": [
    "## Initial Graph"
   ]
  },
  {
   "cell_type": "code",
   "execution_count": 9,
   "metadata": {
    "colab": {},
    "colab_type": "code",
    "id": "4N3PoZ-rx6Ge"
   },
   "outputs": [],
   "source": [
    "import networkx as nx"
   ]
  },
  {
   "cell_type": "code",
   "execution_count": 10,
   "metadata": {
    "colab": {},
    "colab_type": "code",
    "id": "xX5mo76ox89r"
   },
   "outputs": [],
   "source": [
    "G = nx.from_edgelist(edges_list_all)"
   ]
  },
  {
   "cell_type": "code",
   "execution_count": 11,
   "metadata": {
    "colab": {
     "base_uri": "https://localhost:8080/",
     "height": 55
    },
    "colab_type": "code",
    "executionInfo": {
     "elapsed": 9649,
     "status": "ok",
     "timestamp": 1561051962973,
     "user": {
      "displayName": "MARCOS JUNIOR",
      "photoUrl": "",
      "userId": "02126454598504023629"
     },
     "user_tz": 180
    },
    "id": "Y7yZ1NYZyIQc",
    "outputId": "3d99b1a4-7fd7-4f51-daf1-49b89f297e63",
    "scrolled": true
   },
   "outputs": [
    {
     "data": {
      "text/plain": [
       "['abaladissimaa',\n",
       " 'cultura',\n",
       " 'juizsergiomoro',\n",
       " 'astrofotografia',\n",
       " 'lapulga',\n",
       " 'liverpool',\n",
       " 'morovazajatotheintercept',\n",
       " 'gafe',\n",
       " 'jessika',\n",
       " 'summer']"
      ]
     },
     "execution_count": 11,
     "metadata": {},
     "output_type": "execute_result"
    }
   ],
   "source": [
    "list(G.nodes)[:10]"
   ]
  },
  {
   "cell_type": "code",
   "execution_count": 12,
   "metadata": {
    "colab": {
     "base_uri": "https://localhost:8080/",
     "height": 55
    },
    "colab_type": "code",
    "executionInfo": {
     "elapsed": 9504,
     "status": "ok",
     "timestamp": 1561051962983,
     "user": {
      "displayName": "MARCOS JUNIOR",
      "photoUrl": "",
      "userId": "02126454598504023629"
     },
     "user_tz": 180
    },
    "id": "KvWcwwreyLsf",
    "outputId": "02847ed2-0baf-419f-e56c-ce938e75aa22"
   },
   "outputs": [
    {
     "data": {
      "text/plain": [
       "[('abaladissimaa', 'partidoalto'),\n",
       " ('abaladissimaa', 'corrupcao'),\n",
       " ('abaladissimaa', 'provas'),\n",
       " ('abaladissimaa', 'moro'),\n",
       " ('abaladissimaa', 'happy'),\n",
       " ('abaladissimaa', 'lula'),\n",
       " ('abaladissimaa', 'vazajato'),\n",
       " ('abaladissimaa', 'bolsonaro'),\n",
       " ('abaladissimaa', 'juizsergiomoro'),\n",
       " ('abaladissimaa', 'meme')]"
      ]
     },
     "execution_count": 12,
     "metadata": {},
     "output_type": "execute_result"
    }
   ],
   "source": [
    "list(G.edges())[:10]"
   ]
  },
  {
   "cell_type": "code",
   "execution_count": 13,
   "metadata": {
    "colab": {
     "base_uri": "https://localhost:8080/",
     "height": 35
    },
    "colab_type": "code",
    "executionInfo": {
     "elapsed": 9393,
     "status": "ok",
     "timestamp": 1561051962997,
     "user": {
      "displayName": "MARCOS JUNIOR",
      "photoUrl": "",
      "userId": "02126454598504023629"
     },
     "user_tz": 180
    },
    "id": "yK6W92lUQimZ",
    "outputId": "f1607986-44e8-4622-b0fa-081806a2bde3"
   },
   "outputs": [
    {
     "data": {
      "text/plain": [
       "2796"
      ]
     },
     "execution_count": 13,
     "metadata": {},
     "output_type": "execute_result"
    }
   ],
   "source": [
    "len(G.nodes)"
   ]
  },
  {
   "cell_type": "code",
   "execution_count": 14,
   "metadata": {
    "colab": {
     "base_uri": "https://localhost:8080/",
     "height": 35
    },
    "colab_type": "code",
    "executionInfo": {
     "elapsed": 9271,
     "status": "ok",
     "timestamp": 1561051963007,
     "user": {
      "displayName": "MARCOS JUNIOR",
      "photoUrl": "",
      "userId": "02126454598504023629"
     },
     "user_tz": 180
    },
    "id": "uI87Mfw1yc6G",
    "outputId": "f2c87509-b176-453b-b3b9-f485172c7e9b"
   },
   "outputs": [
    {
     "data": {
      "text/plain": [
       "44477"
      ]
     },
     "execution_count": 14,
     "metadata": {},
     "output_type": "execute_result"
    }
   ],
   "source": [
    "len(G.edges)"
   ]
  },
  {
   "cell_type": "code",
   "execution_count": 15,
   "metadata": {
    "colab": {
     "base_uri": "https://localhost:8080/",
     "height": 35
    },
    "colab_type": "code",
    "executionInfo": {
     "elapsed": 9164,
     "status": "ok",
     "timestamp": 1561051963018,
     "user": {
      "displayName": "MARCOS JUNIOR",
      "photoUrl": "",
      "userId": "02126454598504023629"
     },
     "user_tz": 180
    },
    "id": "m762588zAKYa",
    "outputId": "200791be-021b-466b-b193-22255e6dfd72"
   },
   "outputs": [
    {
     "data": {
      "text/plain": [
       "36.09882394954914"
      ]
     },
     "execution_count": 15,
     "metadata": {},
     "output_type": "execute_result"
    }
   ],
   "source": [
    "# percentage from graph edges to list of edges\n",
    "100 * len(G.edges)/len(edges_list_all)"
   ]
  },
  {
   "cell_type": "markdown",
   "metadata": {
    "colab_type": "text",
    "id": "Wkkg3OVKymC3"
   },
   "source": [
    "**Note**\n",
    "\n",
    "What should we do with duplicates edges which disappear when added to the graph? They could be counted as a weight parameter."
   ]
  },
  {
   "cell_type": "markdown",
   "metadata": {
    "colab_type": "text",
    "id": "jUvYBc3lTzxG"
   },
   "source": [
    "## Grouping and Counting Edges"
   ]
  },
  {
   "cell_type": "code",
   "execution_count": 16,
   "metadata": {
    "colab": {},
    "colab_type": "code",
    "id": "UAiCv41nB0am"
   },
   "outputs": [],
   "source": [
    "import pandas as pd"
   ]
  },
  {
   "cell_type": "code",
   "execution_count": 17,
   "metadata": {
    "colab": {},
    "colab_type": "code",
    "id": "mT0Q4a4KB33L"
   },
   "outputs": [],
   "source": [
    "edges_df = pd.DataFrame(edges_list_all, columns=['source', 'target'])"
   ]
  },
  {
   "cell_type": "code",
   "execution_count": 18,
   "metadata": {
    "colab": {
     "base_uri": "https://localhost:8080/",
     "height": 206
    },
    "colab_type": "code",
    "executionInfo": {
     "elapsed": 9090,
     "status": "ok",
     "timestamp": 1561051963103,
     "user": {
      "displayName": "MARCOS JUNIOR",
      "photoUrl": "",
      "userId": "02126454598504023629"
     },
     "user_tz": 180
    },
    "id": "9dCtqoCs7mWX",
    "outputId": "1bf21f73-1c0f-40df-a247-b33bad703608"
   },
   "outputs": [
    {
     "data": {
      "text/html": [
       "<div>\n",
       "<style scoped>\n",
       "    .dataframe tbody tr th:only-of-type {\n",
       "        vertical-align: middle;\n",
       "    }\n",
       "\n",
       "    .dataframe tbody tr th {\n",
       "        vertical-align: top;\n",
       "    }\n",
       "\n",
       "    .dataframe thead th {\n",
       "        text-align: right;\n",
       "    }\n",
       "</style>\n",
       "<table border=\"1\" class=\"dataframe\">\n",
       "  <thead>\n",
       "    <tr style=\"text-align: right;\">\n",
       "      <th></th>\n",
       "      <th>source</th>\n",
       "      <th>target</th>\n",
       "    </tr>\n",
       "  </thead>\n",
       "  <tbody>\n",
       "    <tr>\n",
       "      <th>0</th>\n",
       "      <td>calabria</td>\n",
       "      <td>italia</td>\n",
       "    </tr>\n",
       "    <tr>\n",
       "      <th>1</th>\n",
       "      <td>biologico</td>\n",
       "      <td>italia</td>\n",
       "    </tr>\n",
       "    <tr>\n",
       "      <th>2</th>\n",
       "      <td>ciro</td>\n",
       "      <td>italia</td>\n",
       "    </tr>\n",
       "    <tr>\n",
       "      <th>3</th>\n",
       "      <td>italia</td>\n",
       "      <td>santavenere</td>\n",
       "    </tr>\n",
       "    <tr>\n",
       "      <th>4</th>\n",
       "      <td>enotecar</td>\n",
       "      <td>italia</td>\n",
       "    </tr>\n",
       "  </tbody>\n",
       "</table>\n",
       "</div>"
      ],
      "text/plain": [
       "      source       target\n",
       "0   calabria       italia\n",
       "1  biologico       italia\n",
       "2       ciro       italia\n",
       "3     italia  santavenere\n",
       "4   enotecar       italia"
      ]
     },
     "execution_count": 18,
     "metadata": {},
     "output_type": "execute_result"
    }
   ],
   "source": [
    "edges_df.head()"
   ]
  },
  {
   "cell_type": "code",
   "execution_count": 19,
   "metadata": {
    "colab": {},
    "colab_type": "code",
    "id": "okaw37U8LRvy"
   },
   "outputs": [],
   "source": [
    "# edges_df.to_csv('edges_list_all.csv')"
   ]
  },
  {
   "cell_type": "code",
   "execution_count": 20,
   "metadata": {
    "colab": {},
    "colab_type": "code",
    "id": "Lx7FZXTXEs7L"
   },
   "outputs": [],
   "source": [
    "edges_df['tuple'] = pd.Series(zip(edges_df.source, edges_df.target))"
   ]
  },
  {
   "cell_type": "code",
   "execution_count": 21,
   "metadata": {
    "colab": {
     "base_uri": "https://localhost:8080/",
     "height": 206
    },
    "colab_type": "code",
    "executionInfo": {
     "elapsed": 8995,
     "status": "ok",
     "timestamp": 1561051963172,
     "user": {
      "displayName": "MARCOS JUNIOR",
      "photoUrl": "",
      "userId": "02126454598504023629"
     },
     "user_tz": 180
    },
    "id": "vuX_H7DnFa8g",
    "outputId": "ff1b8bf5-7fe1-49f3-e39e-dfd90633f125"
   },
   "outputs": [
    {
     "data": {
      "text/html": [
       "<div>\n",
       "<style scoped>\n",
       "    .dataframe tbody tr th:only-of-type {\n",
       "        vertical-align: middle;\n",
       "    }\n",
       "\n",
       "    .dataframe tbody tr th {\n",
       "        vertical-align: top;\n",
       "    }\n",
       "\n",
       "    .dataframe thead th {\n",
       "        text-align: right;\n",
       "    }\n",
       "</style>\n",
       "<table border=\"1\" class=\"dataframe\">\n",
       "  <thead>\n",
       "    <tr style=\"text-align: right;\">\n",
       "      <th></th>\n",
       "      <th>source</th>\n",
       "      <th>target</th>\n",
       "      <th>tuple</th>\n",
       "    </tr>\n",
       "  </thead>\n",
       "  <tbody>\n",
       "    <tr>\n",
       "      <th>0</th>\n",
       "      <td>calabria</td>\n",
       "      <td>italia</td>\n",
       "      <td>(calabria, italia)</td>\n",
       "    </tr>\n",
       "    <tr>\n",
       "      <th>1</th>\n",
       "      <td>biologico</td>\n",
       "      <td>italia</td>\n",
       "      <td>(biologico, italia)</td>\n",
       "    </tr>\n",
       "    <tr>\n",
       "      <th>2</th>\n",
       "      <td>ciro</td>\n",
       "      <td>italia</td>\n",
       "      <td>(ciro, italia)</td>\n",
       "    </tr>\n",
       "    <tr>\n",
       "      <th>3</th>\n",
       "      <td>italia</td>\n",
       "      <td>santavenere</td>\n",
       "      <td>(italia, santavenere)</td>\n",
       "    </tr>\n",
       "    <tr>\n",
       "      <th>4</th>\n",
       "      <td>enotecar</td>\n",
       "      <td>italia</td>\n",
       "      <td>(enotecar, italia)</td>\n",
       "    </tr>\n",
       "  </tbody>\n",
       "</table>\n",
       "</div>"
      ],
      "text/plain": [
       "      source       target                  tuple\n",
       "0   calabria       italia     (calabria, italia)\n",
       "1  biologico       italia    (biologico, italia)\n",
       "2       ciro       italia         (ciro, italia)\n",
       "3     italia  santavenere  (italia, santavenere)\n",
       "4   enotecar       italia     (enotecar, italia)"
      ]
     },
     "execution_count": 21,
     "metadata": {},
     "output_type": "execute_result"
    }
   ],
   "source": [
    "edges_df.head()"
   ]
  },
  {
   "cell_type": "code",
   "execution_count": 22,
   "metadata": {
    "colab": {},
    "colab_type": "code",
    "id": "JdcZrLirFdjA"
   },
   "outputs": [],
   "source": [
    "edges_grouped = edges_df.groupby('tuple').count()"
   ]
  },
  {
   "cell_type": "code",
   "execution_count": 23,
   "metadata": {
    "colab": {
     "base_uri": "https://localhost:8080/",
     "height": 238
    },
    "colab_type": "code",
    "executionInfo": {
     "elapsed": 10830,
     "status": "ok",
     "timestamp": 1561051965138,
     "user": {
      "displayName": "MARCOS JUNIOR",
      "photoUrl": "",
      "userId": "02126454598504023629"
     },
     "user_tz": 180
    },
    "id": "htZrYFHDGQKI",
    "outputId": "52dc2251-c079-4f63-8b8f-7e4805d46a17"
   },
   "outputs": [
    {
     "data": {
      "text/html": [
       "<div>\n",
       "<style scoped>\n",
       "    .dataframe tbody tr th:only-of-type {\n",
       "        vertical-align: middle;\n",
       "    }\n",
       "\n",
       "    .dataframe tbody tr th {\n",
       "        vertical-align: top;\n",
       "    }\n",
       "\n",
       "    .dataframe thead th {\n",
       "        text-align: right;\n",
       "    }\n",
       "</style>\n",
       "<table border=\"1\" class=\"dataframe\">\n",
       "  <thead>\n",
       "    <tr style=\"text-align: right;\">\n",
       "      <th></th>\n",
       "      <th>source</th>\n",
       "      <th>target</th>\n",
       "    </tr>\n",
       "    <tr>\n",
       "      <th>tuple</th>\n",
       "      <th></th>\n",
       "      <th></th>\n",
       "    </tr>\n",
       "  </thead>\n",
       "  <tbody>\n",
       "    <tr>\n",
       "      <th>(ptbrasil, racismo)</th>\n",
       "      <td>4</td>\n",
       "      <td>4</td>\n",
       "    </tr>\n",
       "    <tr>\n",
       "      <th>(bolsonaro, brasilfelizdenovo)</th>\n",
       "      <td>1</td>\n",
       "      <td>1</td>\n",
       "    </tr>\n",
       "    <tr>\n",
       "      <th>(antoroccuzzo, couplegoals)</th>\n",
       "      <td>3</td>\n",
       "      <td>3</td>\n",
       "    </tr>\n",
       "    <tr>\n",
       "      <th>(dilmabolada, longliverocknroll)</th>\n",
       "      <td>1</td>\n",
       "      <td>1</td>\n",
       "    </tr>\n",
       "    <tr>\n",
       "      <th>(likes, neymar)</th>\n",
       "      <td>3</td>\n",
       "      <td>3</td>\n",
       "    </tr>\n",
       "  </tbody>\n",
       "</table>\n",
       "</div>"
      ],
      "text/plain": [
       "                                  source  target\n",
       "tuple                                           \n",
       "(ptbrasil, racismo)                    4       4\n",
       "(bolsonaro, brasilfelizdenovo)         1       1\n",
       "(antoroccuzzo, couplegoals)            3       3\n",
       "(dilmabolada, longliverocknroll)       1       1\n",
       "(likes, neymar)                        3       3"
      ]
     },
     "execution_count": 23,
     "metadata": {},
     "output_type": "execute_result"
    }
   ],
   "source": [
    "edges_grouped.sample(5)"
   ]
  },
  {
   "cell_type": "markdown",
   "metadata": {
    "colab_type": "text",
    "id": "AFT0yYReGd7T"
   },
   "source": [
    "**Note**\n",
    "\n",
    "We can add the count for each connection between tags as a parameter of the edge.\n",
    "\n",
    "Let's improve the dataframe fot this task."
   ]
  },
  {
   "cell_type": "code",
   "execution_count": 24,
   "metadata": {
    "colab": {},
    "colab_type": "code",
    "id": "Jfz-cTDTG9Fy"
   },
   "outputs": [],
   "source": [
    "edges_grouped.drop(columns='target', inplace=True, errors='ignore')"
   ]
  },
  {
   "cell_type": "code",
   "execution_count": 25,
   "metadata": {
    "colab": {},
    "colab_type": "code",
    "id": "JNhbmyBEHCUc"
   },
   "outputs": [],
   "source": [
    "edges_grouped.columns=['weight']"
   ]
  },
  {
   "cell_type": "code",
   "execution_count": 26,
   "metadata": {
    "colab": {},
    "colab_type": "code",
    "id": "I44-6mYoImPv"
   },
   "outputs": [],
   "source": [
    "edges_grouped.reset_index(inplace=True)"
   ]
  },
  {
   "cell_type": "code",
   "execution_count": 27,
   "metadata": {
    "colab": {
     "base_uri": "https://localhost:8080/",
     "height": 206
    },
    "colab_type": "code",
    "executionInfo": {
     "elapsed": 10763,
     "status": "ok",
     "timestamp": 1561051965242,
     "user": {
      "displayName": "MARCOS JUNIOR",
      "photoUrl": "",
      "userId": "02126454598504023629"
     },
     "user_tz": 180
    },
    "id": "g3nnr4jpHOaa",
    "outputId": "631d8314-97d2-4d9c-9ea8-6cb474f79a64"
   },
   "outputs": [
    {
     "data": {
      "text/html": [
       "<div>\n",
       "<style scoped>\n",
       "    .dataframe tbody tr th:only-of-type {\n",
       "        vertical-align: middle;\n",
       "    }\n",
       "\n",
       "    .dataframe tbody tr th {\n",
       "        vertical-align: top;\n",
       "    }\n",
       "\n",
       "    .dataframe thead th {\n",
       "        text-align: right;\n",
       "    }\n",
       "</style>\n",
       "<table border=\"1\" class=\"dataframe\">\n",
       "  <thead>\n",
       "    <tr style=\"text-align: right;\">\n",
       "      <th></th>\n",
       "      <th>tuple</th>\n",
       "      <th>weight</th>\n",
       "    </tr>\n",
       "  </thead>\n",
       "  <tbody>\n",
       "    <tr>\n",
       "      <th>31431</th>\n",
       "      <td>(holland, win)</td>\n",
       "      <td>1</td>\n",
       "    </tr>\n",
       "    <tr>\n",
       "      <th>28513</th>\n",
       "      <td>(gaming, pes2019)</td>\n",
       "      <td>1</td>\n",
       "    </tr>\n",
       "    <tr>\n",
       "      <th>17513</th>\n",
       "      <td>(d10s, leoandresmessi)</td>\n",
       "      <td>4</td>\n",
       "    </tr>\n",
       "    <tr>\n",
       "      <th>41590</th>\n",
       "      <td>(penal, theintercept)</td>\n",
       "      <td>2</td>\n",
       "    </tr>\n",
       "    <tr>\n",
       "      <th>43662</th>\n",
       "      <td>(sanches, semedo)</td>\n",
       "      <td>1</td>\n",
       "    </tr>\n",
       "  </tbody>\n",
       "</table>\n",
       "</div>"
      ],
      "text/plain": [
       "                        tuple  weight\n",
       "31431          (holland, win)       1\n",
       "28513       (gaming, pes2019)       1\n",
       "17513  (d10s, leoandresmessi)       4\n",
       "41590   (penal, theintercept)       2\n",
       "43662       (sanches, semedo)       1"
      ]
     },
     "execution_count": 27,
     "metadata": {},
     "output_type": "execute_result"
    }
   ],
   "source": [
    "edges_grouped.sample(5)"
   ]
  },
  {
   "cell_type": "code",
   "execution_count": 28,
   "metadata": {
    "colab": {
     "base_uri": "https://localhost:8080/",
     "height": 35
    },
    "colab_type": "code",
    "executionInfo": {
     "elapsed": 10653,
     "status": "ok",
     "timestamp": 1561051965251,
     "user": {
      "displayName": "MARCOS JUNIOR",
      "photoUrl": "",
      "userId": "02126454598504023629"
     },
     "user_tz": 180
    },
    "id": "qQsz-aWfN052",
    "outputId": "90e9f867-4740-4cf8-cd56-fd56c64cdc37"
   },
   "outputs": [
    {
     "data": {
      "text/plain": [
       "(44477, 2)"
      ]
     },
     "execution_count": 28,
     "metadata": {},
     "output_type": "execute_result"
    }
   ],
   "source": [
    "edges_grouped.shape"
   ]
  },
  {
   "cell_type": "code",
   "execution_count": 29,
   "metadata": {
    "colab": {},
    "colab_type": "code",
    "id": "Jt2IiGgQQcli"
   },
   "outputs": [],
   "source": [
    "edges_grouped['source'] = edges_grouped.tuple.str[0]"
   ]
  },
  {
   "cell_type": "code",
   "execution_count": 30,
   "metadata": {
    "colab": {},
    "colab_type": "code",
    "id": "jHHnrzX5Qlc8"
   },
   "outputs": [],
   "source": [
    "edges_grouped['target'] = edges_grouped.tuple.str[1]"
   ]
  },
  {
   "cell_type": "code",
   "execution_count": 31,
   "metadata": {
    "colab": {},
    "colab_type": "code",
    "id": "UWWNZZ4mU4hC"
   },
   "outputs": [],
   "source": [
    "edges_grouped = edges_grouped.drop(columns='tuple')"
   ]
  },
  {
   "cell_type": "code",
   "execution_count": 32,
   "metadata": {
    "colab": {
     "base_uri": "https://localhost:8080/",
     "height": 206
    },
    "colab_type": "code",
    "executionInfo": {
     "elapsed": 10629,
     "status": "ok",
     "timestamp": 1561051965380,
     "user": {
      "displayName": "MARCOS JUNIOR",
      "photoUrl": "",
      "userId": "02126454598504023629"
     },
     "user_tz": 180
    },
    "id": "D-vKlh1iQh5t",
    "outputId": "ca809261-6903-46c9-b690-0fa3c6162c17"
   },
   "outputs": [
    {
     "data": {
      "text/html": [
       "<div>\n",
       "<style scoped>\n",
       "    .dataframe tbody tr th:only-of-type {\n",
       "        vertical-align: middle;\n",
       "    }\n",
       "\n",
       "    .dataframe tbody tr th {\n",
       "        vertical-align: top;\n",
       "    }\n",
       "\n",
       "    .dataframe thead th {\n",
       "        text-align: right;\n",
       "    }\n",
       "</style>\n",
       "<table border=\"1\" class=\"dataframe\">\n",
       "  <thead>\n",
       "    <tr style=\"text-align: right;\">\n",
       "      <th></th>\n",
       "      <th>weight</th>\n",
       "      <th>source</th>\n",
       "      <th>target</th>\n",
       "    </tr>\n",
       "  </thead>\n",
       "  <tbody>\n",
       "    <tr>\n",
       "      <th>38214</th>\n",
       "      <td>1</td>\n",
       "      <td>mancity</td>\n",
       "      <td>proevolutionsoccer</td>\n",
       "    </tr>\n",
       "    <tr>\n",
       "      <th>14476</th>\n",
       "      <td>3</td>\n",
       "      <td>ciromessi</td>\n",
       "      <td>leo10</td>\n",
       "    </tr>\n",
       "    <tr>\n",
       "      <th>1473</th>\n",
       "      <td>1</td>\n",
       "      <td>amanha</td>\n",
       "      <td>poesias</td>\n",
       "    </tr>\n",
       "    <tr>\n",
       "      <th>14764</th>\n",
       "      <td>1</td>\n",
       "      <td>colt</td>\n",
       "      <td>mexico</td>\n",
       "    </tr>\n",
       "    <tr>\n",
       "      <th>44414</th>\n",
       "      <td>1</td>\n",
       "      <td>vamos</td>\n",
       "      <td>vermelho</td>\n",
       "    </tr>\n",
       "  </tbody>\n",
       "</table>\n",
       "</div>"
      ],
      "text/plain": [
       "       weight     source              target\n",
       "38214       1    mancity  proevolutionsoccer\n",
       "14476       3  ciromessi               leo10\n",
       "1473        1     amanha             poesias\n",
       "14764       1       colt              mexico\n",
       "44414       1      vamos            vermelho"
      ]
     },
     "execution_count": 32,
     "metadata": {},
     "output_type": "execute_result"
    }
   ],
   "source": [
    "edges_grouped.sample(5)"
   ]
  },
  {
   "cell_type": "code",
   "execution_count": 33,
   "metadata": {
    "colab": {},
    "colab_type": "code",
    "id": "OyV8C38hVg2C"
   },
   "outputs": [],
   "source": [
    "# edges_grouped.to_csv('edges_counted.csv')"
   ]
  },
  {
   "cell_type": "markdown",
   "metadata": {
    "colab_type": "text",
    "id": "muzV3FU2RLlH"
   },
   "source": [
    "**Note**\n",
    "\n",
    "Now, let's finally create the graph."
   ]
  },
  {
   "cell_type": "markdown",
   "metadata": {
    "colab_type": "text",
    "id": "DjzvffrRUEhi"
   },
   "source": [
    "## Creating New Graph"
   ]
  },
  {
   "cell_type": "code",
   "execution_count": 34,
   "metadata": {
    "colab": {},
    "colab_type": "code",
    "id": "cAiB66Z-Qvlx"
   },
   "outputs": [],
   "source": [
    "G = nx.from_pandas_edgelist(edges_grouped, edge_attr=True)"
   ]
  },
  {
   "cell_type": "code",
   "execution_count": 35,
   "metadata": {
    "colab": {
     "base_uri": "https://localhost:8080/",
     "height": 55
    },
    "colab_type": "code",
    "executionInfo": {
     "elapsed": 10548,
     "status": "ok",
     "timestamp": 1561051965445,
     "user": {
      "displayName": "MARCOS JUNIOR",
      "photoUrl": "",
      "userId": "02126454598504023629"
     },
     "user_tz": 180
    },
    "id": "txdrPf4LRQRv",
    "outputId": "1d4eb4fe-60ce-4cde-9493-e146d4731f2c"
   },
   "outputs": [
    {
     "data": {
      "text/plain": [
       "['abaladissimaa',\n",
       " 'cultura',\n",
       " 'juizsergiomoro',\n",
       " 'astrofotografia',\n",
       " 'lapulga',\n",
       " 'ecuador',\n",
       " 'liverpool',\n",
       " 'avenidapaulista',\n",
       " 'gafe',\n",
       " 'jessika']"
      ]
     },
     "execution_count": 35,
     "metadata": {},
     "output_type": "execute_result"
    }
   ],
   "source": [
    "list(G.nodes)[:10]"
   ]
  },
  {
   "cell_type": "code",
   "execution_count": 36,
   "metadata": {
    "colab": {
     "base_uri": "https://localhost:8080/",
     "height": 55
    },
    "colab_type": "code",
    "executionInfo": {
     "elapsed": 10442,
     "status": "ok",
     "timestamp": 1561051965454,
     "user": {
      "displayName": "MARCOS JUNIOR",
      "photoUrl": "",
      "userId": "02126454598504023629"
     },
     "user_tz": 180
    },
    "id": "LCI4oe-gQ_Dl",
    "outputId": "b2de69d5-4c95-4dea-867e-94b90fe415b4"
   },
   "outputs": [
    {
     "data": {
      "text/plain": [
       "[('abaladissimaa', 'meme', {'weight': 2}),\n",
       " ('abaladissimaa', 'corrupcao', {'weight': 2}),\n",
       " ('abaladissimaa', 'provas', {'weight': 2}),\n",
       " ('abaladissimaa', 'moro', {'weight': 2}),\n",
       " ('abaladissimaa', 'happy', {'weight': 2}),\n",
       " ('abaladissimaa', 'juizsergiomoro', {'weight': 2}),\n",
       " ('abaladissimaa', 'politica', {'weight': 2}),\n",
       " ('abaladissimaa', 'bolsonaro', {'weight': 2}),\n",
       " ('abaladissimaa', 'pt', {'weight': 2}),\n",
       " ('abaladissimaa', 'lula', {'weight': 2})]"
      ]
     },
     "execution_count": 36,
     "metadata": {},
     "output_type": "execute_result"
    }
   ],
   "source": [
    "list(G.edges(data=True))[:10]"
   ]
  },
  {
   "cell_type": "code",
   "execution_count": 37,
   "metadata": {
    "colab": {
     "base_uri": "https://localhost:8080/",
     "height": 35
    },
    "colab_type": "code",
    "executionInfo": {
     "elapsed": 10340,
     "status": "ok",
     "timestamp": 1561051965465,
     "user": {
      "displayName": "MARCOS JUNIOR",
      "photoUrl": "",
      "userId": "02126454598504023629"
     },
     "user_tz": 180
    },
    "id": "VgOC1U2vaHu1",
    "outputId": "9ddf36dd-48f7-4587-9208-8ad86c7952d6"
   },
   "outputs": [
    {
     "data": {
      "text/plain": [
       "2796"
      ]
     },
     "execution_count": 37,
     "metadata": {},
     "output_type": "execute_result"
    }
   ],
   "source": [
    "len(G.nodes)"
   ]
  },
  {
   "cell_type": "code",
   "execution_count": 38,
   "metadata": {
    "colab": {
     "base_uri": "https://localhost:8080/",
     "height": 35
    },
    "colab_type": "code",
    "executionInfo": {
     "elapsed": 10238,
     "status": "ok",
     "timestamp": 1561051965476,
     "user": {
      "displayName": "MARCOS JUNIOR",
      "photoUrl": "",
      "userId": "02126454598504023629"
     },
     "user_tz": 180
    },
    "id": "yk-OBFwIRbS4",
    "outputId": "1f9ee32e-d2f9-4ef7-85f8-8b60081b03f4"
   },
   "outputs": [
    {
     "data": {
      "text/plain": [
       "44477"
      ]
     },
     "execution_count": 38,
     "metadata": {},
     "output_type": "execute_result"
    }
   ],
   "source": [
    "len(G.edges)"
   ]
  },
  {
   "cell_type": "markdown",
   "metadata": {
    "colab_type": "text",
    "id": "d2zGf3ipRswn"
   },
   "source": [
    "**Note**\n",
    "\n",
    "We have the same number of nodes and edges, but now with the weight."
   ]
  },
  {
   "cell_type": "code",
   "execution_count": 39,
   "metadata": {
    "colab": {
     "base_uri": "https://localhost:8080/",
     "height": 35
    },
    "colab_type": "code",
    "executionInfo": {
     "elapsed": 10133,
     "status": "ok",
     "timestamp": 1561051965487,
     "user": {
      "displayName": "MARCOS JUNIOR",
      "photoUrl": "",
      "userId": "02126454598504023629"
     },
     "user_tz": 180
    },
    "id": "LdKi7qZ4R2jz",
    "outputId": "14054b04-abe7-4b05-9243-7db5080238c2"
   },
   "outputs": [
    {
     "data": {
      "text/plain": [
       "100.0"
      ]
     },
     "execution_count": 39,
     "metadata": {},
     "output_type": "execute_result"
    }
   ],
   "source": [
    "# the same percetual as before, but now with the grouped dataframe\n",
    "100 * len(G.edges)/edges_grouped.shape[0]"
   ]
  },
  {
   "cell_type": "code",
   "execution_count": 40,
   "metadata": {
    "colab": {},
    "colab_type": "code",
    "id": "I4yqKFRYWJnB"
   },
   "outputs": [],
   "source": [
    "nx.write_graphml(G, \"edges_counted_\" + str(POSTS_MAX) + \".graphml\")"
   ]
  },
  {
   "cell_type": "markdown",
   "metadata": {
    "colab_type": "text",
    "id": "sWbp4bgiaVw-"
   },
   "source": [
    "**Note**\n",
    "\n",
    "Lets's take a closer look.\n",
    "\n",
    "Let's check the most important nodes."
   ]
  },
  {
   "cell_type": "markdown",
   "metadata": {
    "colab_type": "text",
    "id": "oYJEqCnQBigV"
   },
   "source": [
    "## Inspecting Edges"
   ]
  },
  {
   "cell_type": "code",
   "execution_count": 41,
   "metadata": {
    "colab": {
     "base_uri": "https://localhost:8080/",
     "height": 363
    },
    "colab_type": "code",
    "executionInfo": {
     "elapsed": 14150,
     "status": "ok",
     "timestamp": 1561051969636,
     "user": {
      "displayName": "MARCOS JUNIOR",
      "photoUrl": "",
      "userId": "02126454598504023629"
     },
     "user_tz": 180
    },
    "id": "-JKU9XLzBigi",
    "outputId": "b70845b0-d6e5-414b-e7da-756a03d1cdf0"
   },
   "outputs": [
    {
     "data": {
      "text/html": [
       "<div>\n",
       "<style scoped>\n",
       "    .dataframe tbody tr th:only-of-type {\n",
       "        vertical-align: middle;\n",
       "    }\n",
       "\n",
       "    .dataframe tbody tr th {\n",
       "        vertical-align: top;\n",
       "    }\n",
       "\n",
       "    .dataframe thead th {\n",
       "        text-align: right;\n",
       "    }\n",
       "</style>\n",
       "<table border=\"1\" class=\"dataframe\">\n",
       "  <thead>\n",
       "    <tr style=\"text-align: right;\">\n",
       "      <th></th>\n",
       "      <th>weight</th>\n",
       "      <th>source</th>\n",
       "      <th>target</th>\n",
       "    </tr>\n",
       "  </thead>\n",
       "  <tbody>\n",
       "    <tr>\n",
       "      <th>21904</th>\n",
       "      <td>198</td>\n",
       "      <td>elenao</td>\n",
       "      <td>lulalivre</td>\n",
       "    </tr>\n",
       "    <tr>\n",
       "      <th>37306</th>\n",
       "      <td>175</td>\n",
       "      <td>lulalivre</td>\n",
       "      <td>manueladavila</td>\n",
       "    </tr>\n",
       "    <tr>\n",
       "      <th>21726</th>\n",
       "      <td>162</td>\n",
       "      <td>eleicoes2018</td>\n",
       "      <td>manueladavila</td>\n",
       "    </tr>\n",
       "    <tr>\n",
       "      <th>30728</th>\n",
       "      <td>153</td>\n",
       "      <td>haddad</td>\n",
       "      <td>lulalivre</td>\n",
       "    </tr>\n",
       "    <tr>\n",
       "      <th>36755</th>\n",
       "      <td>138</td>\n",
       "      <td>lula</td>\n",
       "      <td>lulalivre</td>\n",
       "    </tr>\n",
       "    <tr>\n",
       "      <th>6972</th>\n",
       "      <td>127</td>\n",
       "      <td>bolsonaro</td>\n",
       "      <td>brasil</td>\n",
       "    </tr>\n",
       "    <tr>\n",
       "      <th>7445</th>\n",
       "      <td>115</td>\n",
       "      <td>bolsonaro</td>\n",
       "      <td>moro</td>\n",
       "    </tr>\n",
       "    <tr>\n",
       "      <th>21854</th>\n",
       "      <td>113</td>\n",
       "      <td>elenao</td>\n",
       "      <td>haddad</td>\n",
       "    </tr>\n",
       "    <tr>\n",
       "      <th>21725</th>\n",
       "      <td>109</td>\n",
       "      <td>eleicoes2018</td>\n",
       "      <td>lulalivre</td>\n",
       "    </tr>\n",
       "    <tr>\n",
       "      <th>6938</th>\n",
       "      <td>108</td>\n",
       "      <td>bolsonaro</td>\n",
       "      <td>bolsonaro2018</td>\n",
       "    </tr>\n",
       "  </tbody>\n",
       "</table>\n",
       "</div>"
      ],
      "text/plain": [
       "       weight        source         target\n",
       "21904     198        elenao      lulalivre\n",
       "37306     175     lulalivre  manueladavila\n",
       "21726     162  eleicoes2018  manueladavila\n",
       "30728     153        haddad      lulalivre\n",
       "36755     138          lula      lulalivre\n",
       "6972      127     bolsonaro         brasil\n",
       "7445      115     bolsonaro           moro\n",
       "21854     113        elenao         haddad\n",
       "21725     109  eleicoes2018      lulalivre\n",
       "6938      108     bolsonaro  bolsonaro2018"
      ]
     },
     "execution_count": 41,
     "metadata": {},
     "output_type": "execute_result"
    }
   ],
   "source": [
    "edges_grouped.sort_values(by='weight', ascending=False).head(10)"
   ]
  },
  {
   "cell_type": "code",
   "execution_count": 42,
   "metadata": {
    "colab": {},
    "colab_type": "code",
    "id": "XNmoqLz3Big_"
   },
   "outputs": [],
   "source": [
    "# defining masks to select data\n",
    "\n",
    "mask_source_lulalivre = edges_grouped.source == 'lulalivre'\n",
    "mask_source_lulapresopolitico = edges_grouped.source == 'lulapresopolitico'\n",
    "\n",
    "mask_target_lulalivre = edges_grouped.target == 'lulalivre'\n",
    "mask_target_lulapresopolitico = edges_grouped.target == 'lulapresopolitico'"
   ]
  },
  {
   "cell_type": "code",
   "execution_count": 43,
   "metadata": {
    "colab": {
     "base_uri": "https://localhost:8080/",
     "height": 81
    },
    "colab_type": "code",
    "executionInfo": {
     "elapsed": 14087,
     "status": "ok",
     "timestamp": 1561051969690,
     "user": {
      "displayName": "MARCOS JUNIOR",
      "photoUrl": "",
      "userId": "02126454598504023629"
     },
     "user_tz": 180
    },
    "id": "18S8nQHoBihU",
    "outputId": "39757038-2d8e-49bc-9d5e-b922562ca5ce"
   },
   "outputs": [
    {
     "data": {
      "text/html": [
       "<div>\n",
       "<style scoped>\n",
       "    .dataframe tbody tr th:only-of-type {\n",
       "        vertical-align: middle;\n",
       "    }\n",
       "\n",
       "    .dataframe tbody tr th {\n",
       "        vertical-align: top;\n",
       "    }\n",
       "\n",
       "    .dataframe thead th {\n",
       "        text-align: right;\n",
       "    }\n",
       "</style>\n",
       "<table border=\"1\" class=\"dataframe\">\n",
       "  <thead>\n",
       "    <tr style=\"text-align: right;\">\n",
       "      <th></th>\n",
       "      <th>weight</th>\n",
       "      <th>source</th>\n",
       "      <th>target</th>\n",
       "    </tr>\n",
       "  </thead>\n",
       "  <tbody>\n",
       "    <tr>\n",
       "      <th>37298</th>\n",
       "      <td>54</td>\n",
       "      <td>lulalivre</td>\n",
       "      <td>lulapresopolitico</td>\n",
       "    </tr>\n",
       "  </tbody>\n",
       "</table>\n",
       "</div>"
      ],
      "text/plain": [
       "       weight     source             target\n",
       "37298      54  lulalivre  lulapresopolitico"
      ]
     },
     "execution_count": 43,
     "metadata": {},
     "output_type": "execute_result"
    }
   ],
   "source": [
    "edges_grouped[mask_source_lulalivre & mask_target_lulapresopolitico]"
   ]
  },
  {
   "cell_type": "code",
   "execution_count": 44,
   "metadata": {
    "colab": {
     "base_uri": "https://localhost:8080/",
     "height": 49
    },
    "colab_type": "code",
    "executionInfo": {
     "elapsed": 13990,
     "status": "ok",
     "timestamp": 1561051969699,
     "user": {
      "displayName": "MARCOS JUNIOR",
      "photoUrl": "",
      "userId": "02126454598504023629"
     },
     "user_tz": 180
    },
    "id": "1T4y53xNBihh",
    "outputId": "18295e4f-8eda-49e5-e96a-834357989ba5"
   },
   "outputs": [
    {
     "data": {
      "text/html": [
       "<div>\n",
       "<style scoped>\n",
       "    .dataframe tbody tr th:only-of-type {\n",
       "        vertical-align: middle;\n",
       "    }\n",
       "\n",
       "    .dataframe tbody tr th {\n",
       "        vertical-align: top;\n",
       "    }\n",
       "\n",
       "    .dataframe thead th {\n",
       "        text-align: right;\n",
       "    }\n",
       "</style>\n",
       "<table border=\"1\" class=\"dataframe\">\n",
       "  <thead>\n",
       "    <tr style=\"text-align: right;\">\n",
       "      <th></th>\n",
       "      <th>weight</th>\n",
       "      <th>source</th>\n",
       "      <th>target</th>\n",
       "    </tr>\n",
       "  </thead>\n",
       "  <tbody>\n",
       "  </tbody>\n",
       "</table>\n",
       "</div>"
      ],
      "text/plain": [
       "Empty DataFrame\n",
       "Columns: [weight, source, target]\n",
       "Index: []"
      ]
     },
     "execution_count": 44,
     "metadata": {},
     "output_type": "execute_result"
    }
   ],
   "source": [
    "edges_grouped[mask_target_lulalivre & mask_source_lulapresopolitico]"
   ]
  },
  {
   "cell_type": "markdown",
   "metadata": {
    "colab_type": "text",
    "id": "q6JGe8_9V3zo"
   },
   "source": [
    "**Note**\n",
    "\n",
    "No pair of tags is duplicated."
   ]
  },
  {
   "cell_type": "markdown",
   "metadata": {
    "colab_type": "text",
    "id": "vNECi38Jzwnz"
   },
   "source": [
    "## Inspecting Weights"
   ]
  },
  {
   "cell_type": "code",
   "execution_count": 45,
   "metadata": {
    "colab": {
     "base_uri": "https://localhost:8080/",
     "height": 304
    },
    "colab_type": "code",
    "executionInfo": {
     "elapsed": 13898,
     "status": "ok",
     "timestamp": 1561051969708,
     "user": {
      "displayName": "MARCOS JUNIOR",
      "photoUrl": "",
      "userId": "02126454598504023629"
     },
     "user_tz": 180
    },
    "id": "GTr-BaNGJlCK",
    "outputId": "4b696774-e5dd-40dd-b19c-98d59d17b523"
   },
   "outputs": [
    {
     "data": {
      "text/plain": [
       "31836    1\n",
       "4171     4\n",
       "26557    1\n",
       "23275    8\n",
       "8997     1\n",
       "8746     2\n",
       "35385    4\n",
       "11173    2\n",
       "25279    1\n",
       "4205     2\n",
       "43769    1\n",
       "31843    1\n",
       "37702    1\n",
       "39127    1\n",
       "34061    2\n",
       "Name: weight, dtype: int64"
      ]
     },
     "execution_count": 45,
     "metadata": {},
     "output_type": "execute_result"
    }
   ],
   "source": [
    "edges_grouped.weight.sort_values(ascending=False).sample(15)"
   ]
  },
  {
   "cell_type": "code",
   "execution_count": 46,
   "metadata": {
    "colab": {},
    "colab_type": "code",
    "id": "t_qUz1-VJ5K6"
   },
   "outputs": [],
   "source": [
    "weight_counts = edges_grouped.weight.value_counts().sort_index(ascending=False)"
   ]
  },
  {
   "cell_type": "code",
   "execution_count": 47,
   "metadata": {
    "colab": {
     "base_uri": "https://localhost:8080/",
     "height": 214
    },
    "colab_type": "code",
    "executionInfo": {
     "elapsed": 13836,
     "status": "ok",
     "timestamp": 1561051969754,
     "user": {
      "displayName": "MARCOS JUNIOR",
      "photoUrl": "",
      "userId": "02126454598504023629"
     },
     "user_tz": 180
    },
    "id": "-TROBKlRK3rp",
    "outputId": "230b17c3-b4c2-4155-a45c-78e844c18cd4"
   },
   "outputs": [
    {
     "data": {
      "text/plain": [
       "198    1\n",
       "175    1\n",
       "162    1\n",
       "153    1\n",
       "138    1\n",
       "127    1\n",
       "115    1\n",
       "113    1\n",
       "109    1\n",
       "108    1\n",
       "Name: weight, dtype: int64"
      ]
     },
     "execution_count": 47,
     "metadata": {},
     "output_type": "execute_result"
    }
   ],
   "source": [
    "weight_counts.head(10)"
   ]
  },
  {
   "cell_type": "code",
   "execution_count": 48,
   "metadata": {
    "colab": {
     "base_uri": "https://localhost:8080/",
     "height": 304
    },
    "colab_type": "code",
    "executionInfo": {
     "elapsed": 13750,
     "status": "ok",
     "timestamp": 1561051969767,
     "user": {
      "displayName": "MARCOS JUNIOR",
      "photoUrl": "",
      "userId": "02126454598504023629"
     },
     "user_tz": 180
    },
    "id": "floYGhBPK6eF",
    "outputId": "af479615-3fb9-43ef-be95-77ca7890ad5f"
   },
   "outputs": [
    {
     "data": {
      "text/plain": [
       "15       69\n",
       "14       56\n",
       "13       70\n",
       "12      330\n",
       "11       70\n",
       "10      154\n",
       "9       186\n",
       "8       470\n",
       "7       426\n",
       "6       780\n",
       "5       914\n",
       "4      2085\n",
       "3      3079\n",
       "2      6460\n",
       "1     28090\n",
       "Name: weight, dtype: int64"
      ]
     },
     "execution_count": 48,
     "metadata": {},
     "output_type": "execute_result"
    }
   ],
   "source": [
    "weight_counts.tail(15)"
   ]
  },
  {
   "cell_type": "markdown",
   "metadata": {
    "colab_type": "text",
    "id": "JfoSEYLRLCTp"
   },
   "source": [
    "**Note**\n",
    "\n",
    "Most ot the edges are insignificant and can be dropped to a better visual analysis."
   ]
  },
  {
   "cell_type": "markdown",
   "metadata": {
    "colab_type": "text",
    "id": "pA9PEQd-NO9L"
   },
   "source": [
    "## Dropgging Insignificant Edges"
   ]
  },
  {
   "cell_type": "markdown",
   "metadata": {},
   "source": [
    "The dropping task was done here, but Gephi also have filtering tools."
   ]
  },
  {
   "cell_type": "code",
   "execution_count": 49,
   "metadata": {
    "colab": {},
    "colab_type": "code",
    "id": "DFBLTMVVMy7p"
   },
   "outputs": [],
   "source": [
    "TRESHOLD = 5\n",
    "\n",
    "mask_insignificant = edges_grouped.weight.apply(lambda x : x <= TRESHOLD)"
   ]
  },
  {
   "cell_type": "code",
   "execution_count": 50,
   "metadata": {
    "colab": {},
    "colab_type": "code",
    "id": "RF859A_mM9aX"
   },
   "outputs": [],
   "source": [
    "edges_grouped_dropped = edges_grouped[~mask_insignificant]"
   ]
  },
  {
   "cell_type": "code",
   "execution_count": 51,
   "metadata": {
    "colab": {
     "base_uri": "https://localhost:8080/",
     "height": 214
    },
    "colab_type": "code",
    "executionInfo": {
     "elapsed": 13689,
     "status": "ok",
     "timestamp": 1561051969830,
     "user": {
      "displayName": "MARCOS JUNIOR",
      "photoUrl": "",
      "userId": "02126454598504023629"
     },
     "user_tz": 180
    },
    "id": "Nh968vIjPMwm",
    "outputId": "df9a7c8a-db7a-4e4d-ea4a-881906ac6e36"
   },
   "outputs": [
    {
     "data": {
      "text/plain": [
       "198    1\n",
       "175    1\n",
       "162    1\n",
       "153    1\n",
       "138    1\n",
       "127    1\n",
       "115    1\n",
       "113    1\n",
       "109    1\n",
       "108    1\n",
       "Name: weight, dtype: int64"
      ]
     },
     "execution_count": 51,
     "metadata": {},
     "output_type": "execute_result"
    }
   ],
   "source": [
    "edges_grouped_dropped.weight.value_counts().sort_index(ascending=False).head(10)"
   ]
  },
  {
   "cell_type": "code",
   "execution_count": 52,
   "metadata": {
    "colab": {
     "base_uri": "https://localhost:8080/",
     "height": 304
    },
    "colab_type": "code",
    "executionInfo": {
     "elapsed": 13599,
     "status": "ok",
     "timestamp": 1561051969840,
     "user": {
      "displayName": "MARCOS JUNIOR",
      "photoUrl": "",
      "userId": "02126454598504023629"
     },
     "user_tz": 180
    },
    "id": "sO5lP9HqNXmD",
    "outputId": "342bcbd2-971a-4ce0-8759-0df48e0ffc1e"
   },
   "outputs": [
    {
     "data": {
      "text/plain": [
       "20    100\n",
       "19     29\n",
       "18     58\n",
       "17     28\n",
       "16    214\n",
       "15     69\n",
       "14     56\n",
       "13     70\n",
       "12    330\n",
       "11     70\n",
       "10    154\n",
       "9     186\n",
       "8     470\n",
       "7     426\n",
       "6     780\n",
       "Name: weight, dtype: int64"
      ]
     },
     "execution_count": 52,
     "metadata": {},
     "output_type": "execute_result"
    }
   ],
   "source": [
    "edges_grouped_dropped.weight.value_counts().sort_index(ascending=False).tail(15)"
   ]
  },
  {
   "cell_type": "code",
   "execution_count": 53,
   "metadata": {
    "colab": {},
    "colab_type": "code",
    "id": "5qeuNdN_OiZA"
   },
   "outputs": [],
   "source": [
    "# creating a new graph with dropped data\n",
    "G_dropped = nx.from_pandas_edgelist(edges_grouped_dropped, edge_attr=True)"
   ]
  },
  {
   "cell_type": "markdown",
   "metadata": {
    "colab_type": "text",
    "id": "EfqFMLUBy9bV"
   },
   "source": [
    "## Selfloop Edges"
   ]
  },
  {
   "cell_type": "markdown",
   "metadata": {},
   "source": [
    "### Dropped Graph"
   ]
  },
  {
   "cell_type": "code",
   "execution_count": 54,
   "metadata": {
    "colab": {
     "base_uri": "https://localhost:8080/",
     "height": 196
    },
    "colab_type": "code",
    "executionInfo": {
     "elapsed": 13528,
     "status": "ok",
     "timestamp": 1561051969885,
     "user": {
      "displayName": "MARCOS JUNIOR",
      "photoUrl": "",
      "userId": "02126454598504023629"
     },
     "user_tz": 180
    },
    "id": "HBPmQL6CoFoW",
    "outputId": "60ffd699-20c3-4952-8dee-545e7a82ec78"
   },
   "outputs": [
    {
     "data": {
      "text/plain": [
       "[('family', 'family'),\n",
       " ('elenao', 'elenao'),\n",
       " ('bolsominionsarrependidos', 'bolsominionsarrependidos'),\n",
       " ('manueladavila', 'manueladavila'),\n",
       " ('politica', 'politica'),\n",
       " ('ptnao', 'ptnao'),\n",
       " ('lulalivre', 'lulalivre'),\n",
       " ('bolsonaro', 'bolsonaro'),\n",
       " ('conservadores', 'conservadores'),\n",
       " ('lula', 'lula')]"
      ]
     },
     "execution_count": 54,
     "metadata": {},
     "output_type": "execute_result"
    }
   ],
   "source": [
    "list(G_dropped.selfloop_edges(data=True))[:10]"
   ]
  },
  {
   "cell_type": "code",
   "execution_count": 55,
   "metadata": {
    "colab": {
     "base_uri": "https://localhost:8080/",
     "height": 35
    },
    "colab_type": "code",
    "executionInfo": {
     "elapsed": 13448,
     "status": "ok",
     "timestamp": 1561051969908,
     "user": {
      "displayName": "MARCOS JUNIOR",
      "photoUrl": "",
      "userId": "02126454598504023629"
     },
     "user_tz": 180
    },
    "id": "jmb1r9Lv7nAx",
    "outputId": "e5fdf60e-6c53-40f9-bd23-0dca9ec0a75d"
   },
   "outputs": [
    {
     "data": {
      "text/plain": [
       "35"
      ]
     },
     "execution_count": 55,
     "metadata": {},
     "output_type": "execute_result"
    }
   ],
   "source": [
    "len(list(G_dropped.selfloop_edges(data=True)))"
   ]
  },
  {
   "cell_type": "markdown",
   "metadata": {},
   "source": [
    "### Complete Graph"
   ]
  },
  {
   "cell_type": "code",
   "execution_count": 56,
   "metadata": {
    "colab": {
     "base_uri": "https://localhost:8080/",
     "height": 196
    },
    "colab_type": "code",
    "executionInfo": {
     "elapsed": 13528,
     "status": "ok",
     "timestamp": 1561051969885,
     "user": {
      "displayName": "MARCOS JUNIOR",
      "photoUrl": "",
      "userId": "02126454598504023629"
     },
     "user_tz": 180
    },
    "id": "HBPmQL6CoFoW",
    "outputId": "60ffd699-20c3-4952-8dee-545e7a82ec78"
   },
   "outputs": [
    {
     "data": {
      "text/plain": [
       "[('ptnao', 'ptnao'),\n",
       " ('repost', 'repost'),\n",
       " ('globolixo', 'globolixo'),\n",
       " ('justica', 'justica'),\n",
       " ('glock', 'glock'),\n",
       " ('morocaboeleitoral', 'morocaboeleitoral'),\n",
       " ('euavisei', 'euavisei'),\n",
       " ('eleicoes2018', 'eleicoes2018'),\n",
       " ('instafood', 'instafood'),\n",
       " ('family', 'family')]"
      ]
     },
     "execution_count": 56,
     "metadata": {},
     "output_type": "execute_result"
    }
   ],
   "source": [
    "list(G.selfloop_edges(data=True))[:10]"
   ]
  },
  {
   "cell_type": "code",
   "execution_count": 57,
   "metadata": {
    "colab": {
     "base_uri": "https://localhost:8080/",
     "height": 35
    },
    "colab_type": "code",
    "executionInfo": {
     "elapsed": 13448,
     "status": "ok",
     "timestamp": 1561051969908,
     "user": {
      "displayName": "MARCOS JUNIOR",
      "photoUrl": "",
      "userId": "02126454598504023629"
     },
     "user_tz": 180
    },
    "id": "jmb1r9Lv7nAx",
    "outputId": "e5fdf60e-6c53-40f9-bd23-0dca9ec0a75d"
   },
   "outputs": [
    {
     "data": {
      "text/plain": [
       "93"
      ]
     },
     "execution_count": 57,
     "metadata": {},
     "output_type": "execute_result"
    }
   ],
   "source": [
    "len(list(G.selfloop_edges(data=True)))"
   ]
  },
  {
   "cell_type": "markdown",
   "metadata": {},
   "source": [
    "**Note**\n",
    "\n",
    "The selfloop edges may occur because tha same tag is writen more than once on the same post.\n",
    "\n",
    "So, they were not dropped from the graph at this moment (Gephi has an option to drop them).\n",
    "\n",
    "A further verification can be done about this issue."
   ]
  },
  {
   "cell_type": "code",
   "execution_count": 58,
   "metadata": {
    "colab": {},
    "colab_type": "code",
    "id": "772Hhb8MNgnp"
   },
   "outputs": [],
   "source": [
    "nx.write_graphml(G_dropped, \"edges_counted_\" + str(POSTS_MAX) + \"_dropped.graphml\")"
   ]
  },
  {
   "cell_type": "markdown",
   "metadata": {
    "colab_type": "text",
    "id": "KmLNtmeLBoTX"
   },
   "source": [
    "## Plotting Graph"
   ]
  },
  {
   "cell_type": "markdown",
   "metadata": {},
   "source": [
    "This task is left to Gephi.\n",
    "\n",
    "This command takes about 45~50 minutes to complete."
   ]
  },
  {
   "cell_type": "code",
   "execution_count": 59,
   "metadata": {
    "colab": {},
    "colab_type": "code",
    "id": "6iqLdvCP8dv5"
   },
   "outputs": [],
   "source": [
    "import matplotlib.pyplot as plt"
   ]
  },
  {
   "cell_type": "code",
   "execution_count": 60,
   "metadata": {
    "colab": {
     "base_uri": "https://localhost:8080/",
     "height": 53
    },
    "colab_type": "code",
    "executionInfo": {
     "elapsed": 13395,
     "status": "ok",
     "timestamp": 1561051969973,
     "user": {
      "displayName": "MARCOS JUNIOR",
      "photoUrl": "",
      "userId": "02126454598504023629"
     },
     "user_tz": 180
    },
    "id": "qyrYG4ZQ4284",
    "outputId": "a67805be-c491-4061-ff0d-fcebd799ba4d"
   },
   "outputs": [
    {
     "name": "stdout",
     "output_type": "stream",
     "text": [
      "CPU times: user 11 µs, sys: 0 ns, total: 11 µs\n",
      "Wall time: 21.5 µs\n"
     ]
    }
   ],
   "source": [
    "%%time\n",
    "\n",
    "# turn to False to disable a long time operation\n",
    "if False :\n",
    "\n",
    "    nx.draw(G)\n",
    "\n",
    "    plt.show()"
   ]
  },
  {
   "cell_type": "markdown",
   "metadata": {
    "colab_type": "text",
    "id": "SwQ53-KsNi1T"
   },
   "source": [
    "# Handling List of Key Edges"
   ]
  },
  {
   "cell_type": "markdown",
   "metadata": {
    "colab_type": "text",
    "id": "Tk37A08GWqja"
   },
   "source": [
    "## Creating Keys Graph"
   ]
  },
  {
   "cell_type": "code",
   "execution_count": 61,
   "metadata": {
    "colab": {
     "base_uri": "https://localhost:8080/",
     "height": 196
    },
    "colab_type": "code",
    "executionInfo": {
     "elapsed": 13302,
     "status": "ok",
     "timestamp": 1561051969984,
     "user": {
      "displayName": "MARCOS JUNIOR",
      "photoUrl": "",
      "userId": "02126454598504023629"
     },
     "user_tz": 180
    },
    "id": "ln_797ElW2zs",
    "outputId": "7e22963e-10a1-4125-eadb-db4323a56fdc"
   },
   "outputs": [
    {
     "data": {
      "text/plain": [
       "[('ciro', 'italia'),\n",
       " ('ciro', 'calabria'),\n",
       " ('ciro', 'biologico'),\n",
       " ('ciro', 'santavenere'),\n",
       " ('ciro', 'enotecar'),\n",
       " ('ciro', 'italiawineshop'),\n",
       " ('ciro', 'sardellacalabrese'),\n",
       " ('ciro', 'rock'),\n",
       " ('ciro', 'rocknacional'),\n",
       " ('ciro', 'rockargento')]"
      ]
     },
     "execution_count": 61,
     "metadata": {},
     "output_type": "execute_result"
    }
   ],
   "source": [
    "edges_list_keys[:10]"
   ]
  },
  {
   "cell_type": "code",
   "execution_count": 62,
   "metadata": {
    "colab": {},
    "colab_type": "code",
    "id": "1-KKK4EeXGxf"
   },
   "outputs": [],
   "source": [
    "g = nx.from_edgelist(edges_list_keys)"
   ]
  },
  {
   "cell_type": "code",
   "execution_count": 63,
   "metadata": {
    "colab": {
     "base_uri": "https://localhost:8080/",
     "height": 35
    },
    "colab_type": "code",
    "executionInfo": {
     "elapsed": 13199,
     "status": "ok",
     "timestamp": 1561051970020,
     "user": {
      "displayName": "MARCOS JUNIOR",
      "photoUrl": "",
      "userId": "02126454598504023629"
     },
     "user_tz": 180
    },
    "id": "K1g9HefTXGx4",
    "outputId": "6f9c755b-6e9c-4725-ffe1-d7e48eb595d0"
   },
   "outputs": [
    {
     "data": {
      "text/plain": [
       "2799"
      ]
     },
     "execution_count": 63,
     "metadata": {},
     "output_type": "execute_result"
    }
   ],
   "source": [
    "len(g.nodes)"
   ]
  },
  {
   "cell_type": "code",
   "execution_count": 64,
   "metadata": {
    "colab": {
     "base_uri": "https://localhost:8080/",
     "height": 35
    },
    "colab_type": "code",
    "executionInfo": {
     "elapsed": 13199,
     "status": "ok",
     "timestamp": 1561051970020,
     "user": {
      "displayName": "MARCOS JUNIOR",
      "photoUrl": "",
      "userId": "02126454598504023629"
     },
     "user_tz": 180
    },
    "id": "K1g9HefTXGx4",
    "outputId": "6f9c755b-6e9c-4725-ffe1-d7e48eb595d0"
   },
   "outputs": [
    {
     "data": {
      "text/plain": [
       "3817"
      ]
     },
     "execution_count": 64,
     "metadata": {},
     "output_type": "execute_result"
    }
   ],
   "source": [
    "len(g.edges)"
   ]
  },
  {
   "cell_type": "code",
   "execution_count": 65,
   "metadata": {
    "colab": {
     "base_uri": "https://localhost:8080/",
     "height": 35
    },
    "colab_type": "code",
    "executionInfo": {
     "elapsed": 13005,
     "status": "ok",
     "timestamp": 1561051970035,
     "user": {
      "displayName": "MARCOS JUNIOR",
      "photoUrl": "",
      "userId": "02126454598504023629"
     },
     "user_tz": 180
    },
    "id": "GKoJp7nnXGyb",
    "outputId": "bec32aad-1595-4788-9f2f-416256154056"
   },
   "outputs": [
    {
     "data": {
      "text/plain": [
       "36.29016923369462"
      ]
     },
     "execution_count": 65,
     "metadata": {},
     "output_type": "execute_result"
    }
   ],
   "source": [
    "# percentage from graph edges to list of edges\n",
    "100 * len(g.edges)/len(edges_list_keys)"
   ]
  },
  {
   "cell_type": "markdown",
   "metadata": {
    "colab_type": "text",
    "id": "2AKhell5XP4o"
   },
   "source": [
    "**Note**\n",
    "\n",
    "The same problem occourred with the percentage."
   ]
  },
  {
   "cell_type": "markdown",
   "metadata": {
    "colab_type": "text",
    "id": "f-4cA6fPYFzI"
   },
   "source": [
    "## Grouping and Counting Keys Edges"
   ]
  },
  {
   "cell_type": "code",
   "execution_count": 66,
   "metadata": {
    "colab": {},
    "colab_type": "code",
    "id": "jXOAsD2DXkGz"
   },
   "outputs": [],
   "source": [
    "edges_df_keys = pd.DataFrame(edges_list_keys, columns=['source', 'target'])"
   ]
  },
  {
   "cell_type": "code",
   "execution_count": 67,
   "metadata": {
    "colab": {
     "base_uri": "https://localhost:8080/",
     "height": 206
    },
    "colab_type": "code",
    "executionInfo": {
     "elapsed": 12910,
     "status": "ok",
     "timestamp": 1561051970067,
     "user": {
      "displayName": "MARCOS JUNIOR",
      "photoUrl": "",
      "userId": "02126454598504023629"
     },
     "user_tz": 180
    },
    "id": "AejMvv9cXkHG",
    "outputId": "3b65f807-80e2-4088-9379-1c8e0ee5647a"
   },
   "outputs": [
    {
     "data": {
      "text/html": [
       "<div>\n",
       "<style scoped>\n",
       "    .dataframe tbody tr th:only-of-type {\n",
       "        vertical-align: middle;\n",
       "    }\n",
       "\n",
       "    .dataframe tbody tr th {\n",
       "        vertical-align: top;\n",
       "    }\n",
       "\n",
       "    .dataframe thead th {\n",
       "        text-align: right;\n",
       "    }\n",
       "</style>\n",
       "<table border=\"1\" class=\"dataframe\">\n",
       "  <thead>\n",
       "    <tr style=\"text-align: right;\">\n",
       "      <th></th>\n",
       "      <th>source</th>\n",
       "      <th>target</th>\n",
       "    </tr>\n",
       "  </thead>\n",
       "  <tbody>\n",
       "    <tr>\n",
       "      <th>4176</th>\n",
       "      <td>bolsonaro</td>\n",
       "      <td>regrann</td>\n",
       "    </tr>\n",
       "    <tr>\n",
       "      <th>7325</th>\n",
       "      <td>guedes</td>\n",
       "      <td>cristiano</td>\n",
       "    </tr>\n",
       "    <tr>\n",
       "      <th>6734</th>\n",
       "      <td>dilma</td>\n",
       "      <td>elenao</td>\n",
       "    </tr>\n",
       "    <tr>\n",
       "      <th>6433</th>\n",
       "      <td>dilma</td>\n",
       "      <td>vazamoro</td>\n",
       "    </tr>\n",
       "    <tr>\n",
       "      <th>7519</th>\n",
       "      <td>guedes</td>\n",
       "      <td>todoscampeoes</td>\n",
       "    </tr>\n",
       "  </tbody>\n",
       "</table>\n",
       "</div>"
      ],
      "text/plain": [
       "         source         target\n",
       "4176  bolsonaro        regrann\n",
       "7325     guedes      cristiano\n",
       "6734      dilma         elenao\n",
       "6433      dilma       vazamoro\n",
       "7519     guedes  todoscampeoes"
      ]
     },
     "execution_count": 67,
     "metadata": {},
     "output_type": "execute_result"
    }
   ],
   "source": [
    "edges_df_keys.sample(5)"
   ]
  },
  {
   "cell_type": "code",
   "execution_count": 68,
   "metadata": {
    "colab": {},
    "colab_type": "code",
    "id": "3x9eDg5BXkHY"
   },
   "outputs": [],
   "source": [
    "# edges_df_keys.to_csv('edges_list_keys.csv')"
   ]
  },
  {
   "cell_type": "code",
   "execution_count": 69,
   "metadata": {
    "colab": {},
    "colab_type": "code",
    "id": "e2iA10mMXkHh"
   },
   "outputs": [],
   "source": [
    "edges_df_keys['tuple'] = pd.Series(zip(edges_df_keys.source, edges_df_keys.target))"
   ]
  },
  {
   "cell_type": "code",
   "execution_count": 70,
   "metadata": {
    "colab": {
     "base_uri": "https://localhost:8080/",
     "height": 206
    },
    "colab_type": "code",
    "executionInfo": {
     "elapsed": 12836,
     "status": "ok",
     "timestamp": 1561051970119,
     "user": {
      "displayName": "MARCOS JUNIOR",
      "photoUrl": "",
      "userId": "02126454598504023629"
     },
     "user_tz": 180
    },
    "id": "pPAdak-LXkHp",
    "outputId": "8b8932dd-b29e-45c7-8974-f92359c0bd0a"
   },
   "outputs": [
    {
     "data": {
      "text/html": [
       "<div>\n",
       "<style scoped>\n",
       "    .dataframe tbody tr th:only-of-type {\n",
       "        vertical-align: middle;\n",
       "    }\n",
       "\n",
       "    .dataframe tbody tr th {\n",
       "        vertical-align: top;\n",
       "    }\n",
       "\n",
       "    .dataframe thead th {\n",
       "        text-align: right;\n",
       "    }\n",
       "</style>\n",
       "<table border=\"1\" class=\"dataframe\">\n",
       "  <thead>\n",
       "    <tr style=\"text-align: right;\">\n",
       "      <th></th>\n",
       "      <th>source</th>\n",
       "      <th>target</th>\n",
       "      <th>tuple</th>\n",
       "    </tr>\n",
       "  </thead>\n",
       "  <tbody>\n",
       "    <tr>\n",
       "      <th>161</th>\n",
       "      <td>ciro</td>\n",
       "      <td>larenga</td>\n",
       "      <td>(ciro, larenga)</td>\n",
       "    </tr>\n",
       "    <tr>\n",
       "      <th>3250</th>\n",
       "      <td>moro</td>\n",
       "      <td>alvorada</td>\n",
       "      <td>(moro, alvorada)</td>\n",
       "    </tr>\n",
       "    <tr>\n",
       "      <th>2621</th>\n",
       "      <td>lula</td>\n",
       "      <td>juventude</td>\n",
       "      <td>(lula, juventude)</td>\n",
       "    </tr>\n",
       "    <tr>\n",
       "      <th>9372</th>\n",
       "      <td>haddad</td>\n",
       "      <td>lulalivre</td>\n",
       "      <td>(haddad, lulalivre)</td>\n",
       "    </tr>\n",
       "    <tr>\n",
       "      <th>9099</th>\n",
       "      <td>haddad</td>\n",
       "      <td>lulalivre</td>\n",
       "      <td>(haddad, lulalivre)</td>\n",
       "    </tr>\n",
       "  </tbody>\n",
       "</table>\n",
       "</div>"
      ],
      "text/plain": [
       "      source     target                tuple\n",
       "161     ciro    larenga      (ciro, larenga)\n",
       "3250    moro   alvorada     (moro, alvorada)\n",
       "2621    lula  juventude    (lula, juventude)\n",
       "9372  haddad  lulalivre  (haddad, lulalivre)\n",
       "9099  haddad  lulalivre  (haddad, lulalivre)"
      ]
     },
     "execution_count": 70,
     "metadata": {},
     "output_type": "execute_result"
    }
   ],
   "source": [
    "edges_df_keys.sample(5)"
   ]
  },
  {
   "cell_type": "code",
   "execution_count": 71,
   "metadata": {
    "colab": {},
    "colab_type": "code",
    "id": "wU4ANe7CXkH2"
   },
   "outputs": [],
   "source": [
    "edges_grouped_keys = edges_df_keys.groupby('tuple').count()"
   ]
  },
  {
   "cell_type": "code",
   "execution_count": 72,
   "metadata": {
    "colab": {
     "base_uri": "https://localhost:8080/",
     "height": 238
    },
    "colab_type": "code",
    "executionInfo": {
     "elapsed": 12753,
     "status": "ok",
     "timestamp": 1561051970157,
     "user": {
      "displayName": "MARCOS JUNIOR",
      "photoUrl": "",
      "userId": "02126454598504023629"
     },
     "user_tz": 180
    },
    "id": "tCP99QTHXkH-",
    "outputId": "28baac54-35c8-440c-8d93-7cc11c66d0f7"
   },
   "outputs": [
    {
     "data": {
      "text/html": [
       "<div>\n",
       "<style scoped>\n",
       "    .dataframe tbody tr th:only-of-type {\n",
       "        vertical-align: middle;\n",
       "    }\n",
       "\n",
       "    .dataframe tbody tr th {\n",
       "        vertical-align: top;\n",
       "    }\n",
       "\n",
       "    .dataframe thead th {\n",
       "        text-align: right;\n",
       "    }\n",
       "</style>\n",
       "<table border=\"1\" class=\"dataframe\">\n",
       "  <thead>\n",
       "    <tr style=\"text-align: right;\">\n",
       "      <th></th>\n",
       "      <th>source</th>\n",
       "      <th>target</th>\n",
       "    </tr>\n",
       "    <tr>\n",
       "      <th>tuple</th>\n",
       "      <th></th>\n",
       "      <th></th>\n",
       "    </tr>\n",
       "  </thead>\n",
       "  <tbody>\n",
       "    <tr>\n",
       "      <th>(haddad, sdv)</th>\n",
       "      <td>13</td>\n",
       "      <td>13</td>\n",
       "    </tr>\n",
       "    <tr>\n",
       "      <th>(lula, deltan)</th>\n",
       "      <td>2</td>\n",
       "      <td>2</td>\n",
       "    </tr>\n",
       "    <tr>\n",
       "      <th>(dilma, neymar)</th>\n",
       "      <td>4</td>\n",
       "      <td>4</td>\n",
       "    </tr>\n",
       "    <tr>\n",
       "      <th>(guedes, spain)</th>\n",
       "      <td>1</td>\n",
       "      <td>1</td>\n",
       "    </tr>\n",
       "    <tr>\n",
       "      <th>(bolsonaro, cabelobranco)</th>\n",
       "      <td>2</td>\n",
       "      <td>2</td>\n",
       "    </tr>\n",
       "  </tbody>\n",
       "</table>\n",
       "</div>"
      ],
      "text/plain": [
       "                           source  target\n",
       "tuple                                    \n",
       "(haddad, sdv)                  13      13\n",
       "(lula, deltan)                  2       2\n",
       "(dilma, neymar)                 4       4\n",
       "(guedes, spain)                 1       1\n",
       "(bolsonaro, cabelobranco)       2       2"
      ]
     },
     "execution_count": 72,
     "metadata": {},
     "output_type": "execute_result"
    }
   ],
   "source": [
    "edges_grouped_keys.sample(5)"
   ]
  },
  {
   "cell_type": "code",
   "execution_count": 73,
   "metadata": {
    "colab": {},
    "colab_type": "code",
    "id": "tsBcRXQWXkIK"
   },
   "outputs": [],
   "source": [
    "edges_grouped_keys.drop(columns='target', inplace=True, errors='ignore')"
   ]
  },
  {
   "cell_type": "code",
   "execution_count": 74,
   "metadata": {
    "colab": {},
    "colab_type": "code",
    "id": "WlELjJpVXkIW"
   },
   "outputs": [],
   "source": [
    "edges_grouped_keys.columns=['weight']"
   ]
  },
  {
   "cell_type": "code",
   "execution_count": 75,
   "metadata": {
    "colab": {},
    "colab_type": "code",
    "id": "7Ld3aX3YXkIf"
   },
   "outputs": [],
   "source": [
    "edges_grouped_keys.reset_index(inplace=True)"
   ]
  },
  {
   "cell_type": "code",
   "execution_count": 76,
   "metadata": {
    "colab": {
     "base_uri": "https://localhost:8080/",
     "height": 206
    },
    "colab_type": "code",
    "executionInfo": {
     "elapsed": 12704,
     "status": "ok",
     "timestamp": 1561051970240,
     "user": {
      "displayName": "MARCOS JUNIOR",
      "photoUrl": "",
      "userId": "02126454598504023629"
     },
     "user_tz": 180
    },
    "id": "0x7Fh1jBXkIp",
    "outputId": "c7345f6d-14c6-4652-8d53-069e15d8f9a3"
   },
   "outputs": [
    {
     "data": {
      "text/html": [
       "<div>\n",
       "<style scoped>\n",
       "    .dataframe tbody tr th:only-of-type {\n",
       "        vertical-align: middle;\n",
       "    }\n",
       "\n",
       "    .dataframe tbody tr th {\n",
       "        vertical-align: top;\n",
       "    }\n",
       "\n",
       "    .dataframe thead th {\n",
       "        text-align: right;\n",
       "    }\n",
       "</style>\n",
       "<table border=\"1\" class=\"dataframe\">\n",
       "  <thead>\n",
       "    <tr style=\"text-align: right;\">\n",
       "      <th></th>\n",
       "      <th>tuple</th>\n",
       "      <th>weight</th>\n",
       "    </tr>\n",
       "  </thead>\n",
       "  <tbody>\n",
       "    <tr>\n",
       "      <th>562</th>\n",
       "      <td>(bolsonaro, sbtonline)</td>\n",
       "      <td>2</td>\n",
       "    </tr>\n",
       "    <tr>\n",
       "      <th>3187</th>\n",
       "      <td>(lula, randolferodrigues)</td>\n",
       "      <td>3</td>\n",
       "    </tr>\n",
       "    <tr>\n",
       "      <th>746</th>\n",
       "      <td>(ciro, ciro2022)</td>\n",
       "      <td>1</td>\n",
       "    </tr>\n",
       "    <tr>\n",
       "      <th>568</th>\n",
       "      <td>(bolsonaro, seguroempresarial)</td>\n",
       "      <td>1</td>\n",
       "    </tr>\n",
       "    <tr>\n",
       "      <th>78</th>\n",
       "      <td>(bolsonaro, bolsonaropresidente17)</td>\n",
       "      <td>1</td>\n",
       "    </tr>\n",
       "  </tbody>\n",
       "</table>\n",
       "</div>"
      ],
      "text/plain": [
       "                                   tuple  weight\n",
       "562               (bolsonaro, sbtonline)       2\n",
       "3187           (lula, randolferodrigues)       3\n",
       "746                     (ciro, ciro2022)       1\n",
       "568       (bolsonaro, seguroempresarial)       1\n",
       "78    (bolsonaro, bolsonaropresidente17)       1"
      ]
     },
     "execution_count": 76,
     "metadata": {},
     "output_type": "execute_result"
    }
   ],
   "source": [
    "edges_grouped_keys.sample(5)"
   ]
  },
  {
   "cell_type": "code",
   "execution_count": 77,
   "metadata": {
    "colab": {},
    "colab_type": "code",
    "id": "y7LXC-mLXkJB"
   },
   "outputs": [],
   "source": [
    "edges_grouped_keys['source'] = edges_grouped_keys.tuple.str[0]"
   ]
  },
  {
   "cell_type": "code",
   "execution_count": 78,
   "metadata": {
    "colab": {},
    "colab_type": "code",
    "id": "VjleUqCMXkJI"
   },
   "outputs": [],
   "source": [
    "edges_grouped_keys['target'] = edges_grouped_keys.tuple.str[1]"
   ]
  },
  {
   "cell_type": "code",
   "execution_count": 79,
   "metadata": {
    "colab": {
     "base_uri": "https://localhost:8080/",
     "height": 35
    },
    "colab_type": "code",
    "executionInfo": {
     "elapsed": 12634,
     "status": "ok",
     "timestamp": 1561051970303,
     "user": {
      "displayName": "MARCOS JUNIOR",
      "photoUrl": "",
      "userId": "02126454598504023629"
     },
     "user_tz": 180
    },
    "id": "dimhG-m-XkJc",
    "outputId": "446ef285-7b16-4195-a812-4b6d915b7871"
   },
   "outputs": [
    {
     "data": {
      "text/plain": [
       "(3828, 4)"
      ]
     },
     "execution_count": 79,
     "metadata": {},
     "output_type": "execute_result"
    }
   ],
   "source": [
    "edges_grouped_keys.shape"
   ]
  },
  {
   "cell_type": "code",
   "execution_count": 80,
   "metadata": {
    "colab": {},
    "colab_type": "code",
    "id": "4YauMQ5tXkJo"
   },
   "outputs": [],
   "source": [
    "edges_grouped_keys = edges_grouped_keys.drop(columns='tuple')"
   ]
  },
  {
   "cell_type": "code",
   "execution_count": 81,
   "metadata": {
    "colab": {
     "base_uri": "https://localhost:8080/",
     "height": 206
    },
    "colab_type": "code",
    "executionInfo": {
     "elapsed": 12560,
     "status": "ok",
     "timestamp": 1561051970338,
     "user": {
      "displayName": "MARCOS JUNIOR",
      "photoUrl": "",
      "userId": "02126454598504023629"
     },
     "user_tz": 180
    },
    "id": "_XwZ2kK0XkJR",
    "outputId": "8584a186-a550-4835-ceb6-e87fa5b21f18"
   },
   "outputs": [
    {
     "data": {
      "text/html": [
       "<div>\n",
       "<style scoped>\n",
       "    .dataframe tbody tr th:only-of-type {\n",
       "        vertical-align: middle;\n",
       "    }\n",
       "\n",
       "    .dataframe tbody tr th {\n",
       "        vertical-align: top;\n",
       "    }\n",
       "\n",
       "    .dataframe thead th {\n",
       "        text-align: right;\n",
       "    }\n",
       "</style>\n",
       "<table border=\"1\" class=\"dataframe\">\n",
       "  <thead>\n",
       "    <tr style=\"text-align: right;\">\n",
       "      <th></th>\n",
       "      <th>weight</th>\n",
       "      <th>source</th>\n",
       "      <th>target</th>\n",
       "    </tr>\n",
       "  </thead>\n",
       "  <tbody>\n",
       "    <tr>\n",
       "      <th>1517</th>\n",
       "      <td>8</td>\n",
       "      <td>dilma</td>\n",
       "      <td>haddadpresidente</td>\n",
       "    </tr>\n",
       "    <tr>\n",
       "      <th>3339</th>\n",
       "      <td>2</td>\n",
       "      <td>moro</td>\n",
       "      <td>augustonunes</td>\n",
       "    </tr>\n",
       "    <tr>\n",
       "      <th>2643</th>\n",
       "      <td>1</td>\n",
       "      <td>lula</td>\n",
       "      <td>54</td>\n",
       "    </tr>\n",
       "    <tr>\n",
       "      <th>1516</th>\n",
       "      <td>20</td>\n",
       "      <td>dilma</td>\n",
       "      <td>haddad</td>\n",
       "    </tr>\n",
       "    <tr>\n",
       "      <th>170</th>\n",
       "      <td>1</td>\n",
       "      <td>bolsonaro</td>\n",
       "      <td>deltan</td>\n",
       "    </tr>\n",
       "  </tbody>\n",
       "</table>\n",
       "</div>"
      ],
      "text/plain": [
       "      weight     source            target\n",
       "1517       8      dilma  haddadpresidente\n",
       "3339       2       moro      augustonunes\n",
       "2643       1       lula                54\n",
       "1516      20      dilma            haddad\n",
       "170        1  bolsonaro            deltan"
      ]
     },
     "execution_count": 81,
     "metadata": {},
     "output_type": "execute_result"
    }
   ],
   "source": [
    "edges_grouped_keys.sample(5)"
   ]
  },
  {
   "cell_type": "code",
   "execution_count": 82,
   "metadata": {
    "colab": {},
    "colab_type": "code",
    "id": "a9rLDwVmXkJu"
   },
   "outputs": [],
   "source": [
    "# edges_grouped_keys.to_csv('edges_counted_keys.csv')"
   ]
  },
  {
   "cell_type": "markdown",
   "metadata": {
    "colab_type": "text",
    "id": "dvlUgyZMZd3m"
   },
   "source": [
    "## Creating New Keys Graph"
   ]
  },
  {
   "cell_type": "code",
   "execution_count": 83,
   "metadata": {
    "colab": {},
    "colab_type": "code",
    "id": "0t1ZRa4ZZd3w"
   },
   "outputs": [],
   "source": [
    "g = nx.from_pandas_edgelist(edges_grouped_keys, edge_attr=True)"
   ]
  },
  {
   "cell_type": "code",
   "execution_count": 84,
   "metadata": {
    "colab": {
     "base_uri": "https://localhost:8080/",
     "height": 55
    },
    "colab_type": "code",
    "executionInfo": {
     "elapsed": 12489,
     "status": "ok",
     "timestamp": 1561051970400,
     "user": {
      "displayName": "MARCOS JUNIOR",
      "photoUrl": "",
      "userId": "02126454598504023629"
     },
     "user_tz": 180
    },
    "id": "LLaiGA7TZd4C",
    "outputId": "31042ee7-b1f8-4d53-98bb-da97745ed899"
   },
   "outputs": [
    {
     "data": {
      "text/plain": [
       "['abaladissimaa',\n",
       " 'cultura',\n",
       " 'juizsergiomoro',\n",
       " 'astrofotografia',\n",
       " 'lapulga',\n",
       " 'liverpool',\n",
       " 'avenidapaulista',\n",
       " 'gafe',\n",
       " 'jessika',\n",
       " 'summer']"
      ]
     },
     "execution_count": 84,
     "metadata": {},
     "output_type": "execute_result"
    }
   ],
   "source": [
    "list(g.nodes)[:10]"
   ]
  },
  {
   "cell_type": "code",
   "execution_count": 85,
   "metadata": {
    "colab": {
     "base_uri": "https://localhost:8080/",
     "height": 55
    },
    "colab_type": "code",
    "executionInfo": {
     "elapsed": 12397,
     "status": "ok",
     "timestamp": 1561051970408,
     "user": {
      "displayName": "MARCOS JUNIOR",
      "photoUrl": "",
      "userId": "02126454598504023629"
     },
     "user_tz": 180
    },
    "id": "NBrN6gRrk0Hl",
    "outputId": "cceacb6a-28c6-48fb-b271-83244784a5a5"
   },
   "outputs": [
    {
     "data": {
      "text/plain": [
       "[('abaladissimaa', 'haddad', {'weight': 1}),\n",
       " ('abaladissimaa', 'dilma', {'weight': 1}),\n",
       " ('cultura', 'lula', {'weight': 1}),\n",
       " ('juizsergiomoro', 'bolsonaro', {'weight': 4}),\n",
       " ('juizsergiomoro', 'haddad', {'weight': 1}),\n",
       " ('juizsergiomoro', 'lula', {'weight': 2}),\n",
       " ('juizsergiomoro', 'moro', {'weight': 3}),\n",
       " ('juizsergiomoro', 'dilma', {'weight': 1}),\n",
       " ('astrofotografia', 'bolsonaro', {'weight': 5}),\n",
       " ('lapulga', 'ciro', {'weight': 1})]"
      ]
     },
     "execution_count": 85,
     "metadata": {},
     "output_type": "execute_result"
    }
   ],
   "source": [
    "list(g.edges(data=True))[:10]"
   ]
  },
  {
   "cell_type": "code",
   "execution_count": 86,
   "metadata": {
    "colab": {
     "base_uri": "https://localhost:8080/",
     "height": 35
    },
    "colab_type": "code",
    "executionInfo": {
     "elapsed": 12294,
     "status": "ok",
     "timestamp": 1561051970414,
     "user": {
      "displayName": "MARCOS JUNIOR",
      "photoUrl": "",
      "userId": "02126454598504023629"
     },
     "user_tz": 180
    },
    "id": "IRNHmPGZZd4V",
    "outputId": "4604af84-8a65-48b9-9a90-26cbad00393b"
   },
   "outputs": [
    {
     "data": {
      "text/plain": [
       "2799"
      ]
     },
     "execution_count": 86,
     "metadata": {},
     "output_type": "execute_result"
    }
   ],
   "source": [
    "len(g.nodes)"
   ]
  },
  {
   "cell_type": "code",
   "execution_count": 87,
   "metadata": {
    "colab": {
     "base_uri": "https://localhost:8080/",
     "height": 35
    },
    "colab_type": "code",
    "executionInfo": {
     "elapsed": 12208,
     "status": "ok",
     "timestamp": 1561051970423,
     "user": {
      "displayName": "MARCOS JUNIOR",
      "photoUrl": "",
      "userId": "02126454598504023629"
     },
     "user_tz": 180
    },
    "id": "k4LUmDd9Zd4j",
    "outputId": "0fb25246-4e50-4f56-fb97-fade762d3242"
   },
   "outputs": [
    {
     "data": {
      "text/plain": [
       "3817"
      ]
     },
     "execution_count": 87,
     "metadata": {},
     "output_type": "execute_result"
    }
   ],
   "source": [
    "len(g.edges)"
   ]
  },
  {
   "cell_type": "code",
   "execution_count": 88,
   "metadata": {
    "colab": {
     "base_uri": "https://localhost:8080/",
     "height": 35
    },
    "colab_type": "code",
    "executionInfo": {
     "elapsed": 12124,
     "status": "ok",
     "timestamp": 1561051970430,
     "user": {
      "displayName": "MARCOS JUNIOR",
      "photoUrl": "",
      "userId": "02126454598504023629"
     },
     "user_tz": 180
    },
    "id": "tzsC5ydqZd4y",
    "outputId": "d679a554-0de8-46b7-a787-f5bba6a1a65f"
   },
   "outputs": [
    {
     "data": {
      "text/plain": [
       "99.71264367816092"
      ]
     },
     "execution_count": 88,
     "metadata": {},
     "output_type": "execute_result"
    }
   ],
   "source": [
    "# the same percetual as before, but now with the grouped dataframe\n",
    "100 * len(g.edges)/edges_grouped_keys.shape[0]"
   ]
  },
  {
   "cell_type": "markdown",
   "metadata": {},
   "source": [
    "**Note**\n",
    "\n",
    "This percentual is not 100% because the key tags are not appended alphabetically to the list of edges."
   ]
  },
  {
   "cell_type": "code",
   "execution_count": 89,
   "metadata": {
    "colab": {},
    "colab_type": "code",
    "id": "aIYIQfJgcUIA"
   },
   "outputs": [],
   "source": [
    "nx.write_graphml(g, \"edges_counted_keys_\" + str(POSTS_MAX) + \".graphml\")"
   ]
  },
  {
   "cell_type": "markdown",
   "metadata": {
    "colab_type": "text",
    "id": "uzo8w-Qgbuu2"
   },
   "source": [
    "## Inspecting Keys Edges"
   ]
  },
  {
   "cell_type": "code",
   "execution_count": 90,
   "metadata": {
    "colab": {
     "base_uri": "https://localhost:8080/",
     "height": 363
    },
    "colab_type": "code",
    "executionInfo": {
     "elapsed": 12049,
     "status": "ok",
     "timestamp": 1561051970460,
     "user": {
      "displayName": "MARCOS JUNIOR",
      "photoUrl": "",
      "userId": "02126454598504023629"
     },
     "user_tz": 180
    },
    "id": "7wGFd3UZbyoM",
    "outputId": "22746342-8d3c-4444-cec6-8fca2b07abf6"
   },
   "outputs": [
    {
     "data": {
      "text/html": [
       "<div>\n",
       "<style scoped>\n",
       "    .dataframe tbody tr th:only-of-type {\n",
       "        vertical-align: middle;\n",
       "    }\n",
       "\n",
       "    .dataframe tbody tr th {\n",
       "        vertical-align: top;\n",
       "    }\n",
       "\n",
       "    .dataframe thead th {\n",
       "        text-align: right;\n",
       "    }\n",
       "</style>\n",
       "<table border=\"1\" class=\"dataframe\">\n",
       "  <thead>\n",
       "    <tr style=\"text-align: right;\">\n",
       "      <th></th>\n",
       "      <th>weight</th>\n",
       "      <th>source</th>\n",
       "      <th>target</th>\n",
       "    </tr>\n",
       "  </thead>\n",
       "  <tbody>\n",
       "    <tr>\n",
       "      <th>3784</th>\n",
       "      <td>6</td>\n",
       "      <td>moro</td>\n",
       "      <td>stf</td>\n",
       "    </tr>\n",
       "    <tr>\n",
       "      <th>2281</th>\n",
       "      <td>1</td>\n",
       "      <td>guedes</td>\n",
       "      <td>winn</td>\n",
       "    </tr>\n",
       "    <tr>\n",
       "      <th>596</th>\n",
       "      <td>1</td>\n",
       "      <td>bolsonaro</td>\n",
       "      <td>stfvergonha</td>\n",
       "    </tr>\n",
       "    <tr>\n",
       "      <th>3442</th>\n",
       "      <td>1</td>\n",
       "      <td>moro</td>\n",
       "      <td>deliciousfood</td>\n",
       "    </tr>\n",
       "    <tr>\n",
       "      <th>213</th>\n",
       "      <td>7</td>\n",
       "      <td>bolsonaro</td>\n",
       "      <td>eduardobolsonaro</td>\n",
       "    </tr>\n",
       "    <tr>\n",
       "      <th>1097</th>\n",
       "      <td>1</td>\n",
       "      <td>ciro</td>\n",
       "      <td>messifans</td>\n",
       "    </tr>\n",
       "    <tr>\n",
       "      <th>2043</th>\n",
       "      <td>3</td>\n",
       "      <td>guedes</td>\n",
       "      <td>liverpool</td>\n",
       "    </tr>\n",
       "    <tr>\n",
       "      <th>2087</th>\n",
       "      <td>1</td>\n",
       "      <td>guedes</td>\n",
       "      <td>mrsatan</td>\n",
       "    </tr>\n",
       "    <tr>\n",
       "      <th>421</th>\n",
       "      <td>3</td>\n",
       "      <td>bolsonaro</td>\n",
       "      <td>military</td>\n",
       "    </tr>\n",
       "    <tr>\n",
       "      <th>1582</th>\n",
       "      <td>1</td>\n",
       "      <td>dilma</td>\n",
       "      <td>moroedallagnol</td>\n",
       "    </tr>\n",
       "  </tbody>\n",
       "</table>\n",
       "</div>"
      ],
      "text/plain": [
       "      weight     source            target\n",
       "3784       6       moro               stf\n",
       "2281       1     guedes              winn\n",
       "596        1  bolsonaro       stfvergonha\n",
       "3442       1       moro     deliciousfood\n",
       "213        7  bolsonaro  eduardobolsonaro\n",
       "1097       1       ciro         messifans\n",
       "2043       3     guedes         liverpool\n",
       "2087       1     guedes           mrsatan\n",
       "421        3  bolsonaro          military\n",
       "1582       1      dilma    moroedallagnol"
      ]
     },
     "execution_count": 90,
     "metadata": {},
     "output_type": "execute_result"
    }
   ],
   "source": [
    "edges_grouped_keys.sample(10)"
   ]
  },
  {
   "cell_type": "code",
   "execution_count": 91,
   "metadata": {
    "colab": {
     "base_uri": "https://localhost:8080/",
     "height": 89
    },
    "colab_type": "code",
    "executionInfo": {
     "elapsed": 11957,
     "status": "ok",
     "timestamp": 1561051970468,
     "user": {
      "displayName": "MARCOS JUNIOR",
      "photoUrl": "",
      "userId": "02126454598504023629"
     },
     "user_tz": 180
    },
    "id": "uc3JpZ3IeX3f",
    "outputId": "8e4b25b2-87e7-485b-a22e-27e04d99ae28"
   },
   "outputs": [
    {
     "data": {
      "text/plain": [
       "weight    0\n",
       "source    0\n",
       "target    0\n",
       "dtype: int64"
      ]
     },
     "execution_count": 91,
     "metadata": {},
     "output_type": "execute_result"
    }
   ],
   "source": [
    "# checking if there are any null value\n",
    "edges_grouped_keys.isnull().sum()"
   ]
  },
  {
   "cell_type": "code",
   "execution_count": 92,
   "metadata": {
    "colab": {
     "base_uri": "https://localhost:8080/",
     "height": 89
    },
    "colab_type": "code",
    "executionInfo": {
     "elapsed": 11874,
     "status": "ok",
     "timestamp": 1561051970480,
     "user": {
      "displayName": "MARCOS JUNIOR",
      "photoUrl": "",
      "userId": "02126454598504023629"
     },
     "user_tz": 180
    },
    "id": "s_oZM6cSgZ-Z",
    "outputId": "e652e7d7-60fa-42ab-922b-7928e36cc5fe"
   },
   "outputs": [
    {
     "data": {
      "text/plain": [
       "array([  1,   2,   3,   4,   5,   6,   7,   8,   9,  10,  11,  12,  13,\n",
       "        14,  15,  16,  17,  18,  19,  20,  21,  22,  23,  24,  26,  27,\n",
       "        28,  29,  30,  31,  32,  33,  34,  35,  36,  41,  42,  43,  44,\n",
       "        46,  48,  49,  51,  54,  55,  62,  86, 113])"
      ]
     },
     "execution_count": 92,
     "metadata": {},
     "output_type": "execute_result"
    }
   ],
   "source": [
    "# checking different weight values\n",
    "edges_grouped_keys.weight.sort_values().unique()"
   ]
  },
  {
   "cell_type": "code",
   "execution_count": 93,
   "metadata": {
    "colab": {
     "base_uri": "https://localhost:8080/",
     "height": 35
    },
    "colab_type": "code",
    "executionInfo": {
     "elapsed": 11790,
     "status": "ok",
     "timestamp": 1561051970490,
     "user": {
      "displayName": "MARCOS JUNIOR",
      "photoUrl": "",
      "userId": "02126454598504023629"
     },
     "user_tz": 180
    },
    "id": "8eMl3yWNgrGK",
    "outputId": "2a0da8f4-7fc8-4db3-ca1b-7438c02151fb"
   },
   "outputs": [
    {
     "data": {
      "text/plain": [
       "0"
      ]
     },
     "execution_count": 93,
     "metadata": {},
     "output_type": "execute_result"
    }
   ],
   "source": [
    "# checking for empty tags\n",
    "edges_grouped_keys.source.apply( lambda x : x is '' ).sum()"
   ]
  },
  {
   "cell_type": "code",
   "execution_count": 94,
   "metadata": {
    "colab": {
     "base_uri": "https://localhost:8080/",
     "height": 35
    },
    "colab_type": "code",
    "executionInfo": {
     "elapsed": 11697,
     "status": "ok",
     "timestamp": 1561051970498,
     "user": {
      "displayName": "MARCOS JUNIOR",
      "photoUrl": "",
      "userId": "02126454598504023629"
     },
     "user_tz": 180
    },
    "id": "Uqw-bFluhEsE",
    "outputId": "cf7abdcb-c00a-4b08-80be-5a10b94ded93"
   },
   "outputs": [
    {
     "data": {
      "text/plain": [
       "0"
      ]
     },
     "execution_count": 94,
     "metadata": {},
     "output_type": "execute_result"
    }
   ],
   "source": [
    "# checking for empty tags\n",
    "edges_grouped_keys.target.apply( lambda x : x is '' ).sum()"
   ]
  },
  {
   "cell_type": "code",
   "execution_count": 95,
   "metadata": {
    "colab": {
     "base_uri": "https://localhost:8080/",
     "height": 35
    },
    "colab_type": "code",
    "executionInfo": {
     "elapsed": 11615,
     "status": "ok",
     "timestamp": 1561051970507,
     "user": {
      "displayName": "MARCOS JUNIOR",
      "photoUrl": "",
      "userId": "02126454598504023629"
     },
     "user_tz": 180
    },
    "id": "xgR5_zMppbTh",
    "outputId": "aedad5d6-01f3-4572-cc7c-b502cf0060f0"
   },
   "outputs": [
    {
     "data": {
      "text/plain": [
       "[]"
      ]
     },
     "execution_count": 95,
     "metadata": {},
     "output_type": "execute_result"
    }
   ],
   "source": [
    "# checking for self loop edges\n",
    "list(g.selfloop_edges())"
   ]
  },
  {
   "cell_type": "code",
   "execution_count": 96,
   "metadata": {
    "colab": {
     "base_uri": "https://localhost:8080/",
     "height": 865
    },
    "colab_type": "code",
    "executionInfo": {
     "elapsed": 11534,
     "status": "ok",
     "timestamp": 1561051970517,
     "user": {
      "displayName": "MARCOS JUNIOR",
      "photoUrl": "",
      "userId": "02126454598504023629"
     },
     "user_tz": 180
    },
    "id": "S_2dPpIr9izC",
    "outputId": "2532ba48-004b-4c21-bd7d-1e4c3c4b8561"
   },
   "outputs": [
    {
     "data": {
      "text/html": [
       "<div>\n",
       "<style scoped>\n",
       "    .dataframe tbody tr th:only-of-type {\n",
       "        vertical-align: middle;\n",
       "    }\n",
       "\n",
       "    .dataframe tbody tr th {\n",
       "        vertical-align: top;\n",
       "    }\n",
       "\n",
       "    .dataframe thead th {\n",
       "        text-align: right;\n",
       "    }\n",
       "</style>\n",
       "<table border=\"1\" class=\"dataframe\">\n",
       "  <thead>\n",
       "    <tr style=\"text-align: right;\">\n",
       "      <th></th>\n",
       "      <th>weight</th>\n",
       "      <th>source</th>\n",
       "      <th>target</th>\n",
       "    </tr>\n",
       "  </thead>\n",
       "  <tbody>\n",
       "    <tr>\n",
       "      <th>187</th>\n",
       "      <td>2</td>\n",
       "      <td>bolsonaro</td>\n",
       "      <td>dilma</td>\n",
       "    </tr>\n",
       "    <tr>\n",
       "      <th>322</th>\n",
       "      <td>2</td>\n",
       "      <td>bolsonaro</td>\n",
       "      <td>haddad</td>\n",
       "    </tr>\n",
       "    <tr>\n",
       "      <th>381</th>\n",
       "      <td>7</td>\n",
       "      <td>bolsonaro</td>\n",
       "      <td>lula</td>\n",
       "    </tr>\n",
       "    <tr>\n",
       "      <th>430</th>\n",
       "      <td>21</td>\n",
       "      <td>bolsonaro</td>\n",
       "      <td>moro</td>\n",
       "    </tr>\n",
       "    <tr>\n",
       "      <th>704</th>\n",
       "      <td>7</td>\n",
       "      <td>ciro</td>\n",
       "      <td>bolsonaro</td>\n",
       "    </tr>\n",
       "    <tr>\n",
       "      <th>787</th>\n",
       "      <td>1</td>\n",
       "      <td>ciro</td>\n",
       "      <td>dilma</td>\n",
       "    </tr>\n",
       "    <tr>\n",
       "      <th>923</th>\n",
       "      <td>5</td>\n",
       "      <td>ciro</td>\n",
       "      <td>haddad</td>\n",
       "    </tr>\n",
       "    <tr>\n",
       "      <th>1051</th>\n",
       "      <td>4</td>\n",
       "      <td>ciro</td>\n",
       "      <td>lula</td>\n",
       "    </tr>\n",
       "    <tr>\n",
       "      <th>1110</th>\n",
       "      <td>4</td>\n",
       "      <td>ciro</td>\n",
       "      <td>moro</td>\n",
       "    </tr>\n",
       "    <tr>\n",
       "      <th>1382</th>\n",
       "      <td>36</td>\n",
       "      <td>dilma</td>\n",
       "      <td>bolsonaro</td>\n",
       "    </tr>\n",
       "    <tr>\n",
       "      <th>1406</th>\n",
       "      <td>1</td>\n",
       "      <td>dilma</td>\n",
       "      <td>ciro</td>\n",
       "    </tr>\n",
       "    <tr>\n",
       "      <th>1516</th>\n",
       "      <td>20</td>\n",
       "      <td>dilma</td>\n",
       "      <td>haddad</td>\n",
       "    </tr>\n",
       "    <tr>\n",
       "      <th>1565</th>\n",
       "      <td>42</td>\n",
       "      <td>dilma</td>\n",
       "      <td>lula</td>\n",
       "    </tr>\n",
       "    <tr>\n",
       "      <th>1580</th>\n",
       "      <td>20</td>\n",
       "      <td>dilma</td>\n",
       "      <td>moro</td>\n",
       "    </tr>\n",
       "    <tr>\n",
       "      <th>2316</th>\n",
       "      <td>32</td>\n",
       "      <td>haddad</td>\n",
       "      <td>bolsonaro</td>\n",
       "    </tr>\n",
       "    <tr>\n",
       "      <th>2341</th>\n",
       "      <td>1</td>\n",
       "      <td>haddad</td>\n",
       "      <td>ciro</td>\n",
       "    </tr>\n",
       "    <tr>\n",
       "      <th>2368</th>\n",
       "      <td>9</td>\n",
       "      <td>haddad</td>\n",
       "      <td>dilma</td>\n",
       "    </tr>\n",
       "    <tr>\n",
       "      <th>2503</th>\n",
       "      <td>46</td>\n",
       "      <td>haddad</td>\n",
       "      <td>lula</td>\n",
       "    </tr>\n",
       "    <tr>\n",
       "      <th>2543</th>\n",
       "      <td>16</td>\n",
       "      <td>haddad</td>\n",
       "      <td>moro</td>\n",
       "    </tr>\n",
       "    <tr>\n",
       "      <th>2690</th>\n",
       "      <td>26</td>\n",
       "      <td>lula</td>\n",
       "      <td>bolsonaro</td>\n",
       "    </tr>\n",
       "    <tr>\n",
       "      <th>2795</th>\n",
       "      <td>3</td>\n",
       "      <td>lula</td>\n",
       "      <td>dilma</td>\n",
       "    </tr>\n",
       "    <tr>\n",
       "      <th>2916</th>\n",
       "      <td>14</td>\n",
       "      <td>lula</td>\n",
       "      <td>haddad</td>\n",
       "    </tr>\n",
       "    <tr>\n",
       "      <th>3082</th>\n",
       "      <td>20</td>\n",
       "      <td>lula</td>\n",
       "      <td>moro</td>\n",
       "    </tr>\n",
       "    <tr>\n",
       "      <th>3361</th>\n",
       "      <td>33</td>\n",
       "      <td>moro</td>\n",
       "      <td>bolsonaro</td>\n",
       "    </tr>\n",
       "    <tr>\n",
       "      <th>3560</th>\n",
       "      <td>2</td>\n",
       "      <td>moro</td>\n",
       "      <td>haddad</td>\n",
       "    </tr>\n",
       "    <tr>\n",
       "      <th>3627</th>\n",
       "      <td>10</td>\n",
       "      <td>moro</td>\n",
       "      <td>lula</td>\n",
       "    </tr>\n",
       "  </tbody>\n",
       "</table>\n",
       "</div>"
      ],
      "text/plain": [
       "      weight     source     target\n",
       "187        2  bolsonaro      dilma\n",
       "322        2  bolsonaro     haddad\n",
       "381        7  bolsonaro       lula\n",
       "430       21  bolsonaro       moro\n",
       "704        7       ciro  bolsonaro\n",
       "787        1       ciro      dilma\n",
       "923        5       ciro     haddad\n",
       "1051       4       ciro       lula\n",
       "1110       4       ciro       moro\n",
       "1382      36      dilma  bolsonaro\n",
       "1406       1      dilma       ciro\n",
       "1516      20      dilma     haddad\n",
       "1565      42      dilma       lula\n",
       "1580      20      dilma       moro\n",
       "2316      32     haddad  bolsonaro\n",
       "2341       1     haddad       ciro\n",
       "2368       9     haddad      dilma\n",
       "2503      46     haddad       lula\n",
       "2543      16     haddad       moro\n",
       "2690      26       lula  bolsonaro\n",
       "2795       3       lula      dilma\n",
       "2916      14       lula     haddad\n",
       "3082      20       lula       moro\n",
       "3361      33       moro  bolsonaro\n",
       "3560       2       moro     haddad\n",
       "3627      10       moro       lula"
      ]
     },
     "execution_count": 96,
     "metadata": {},
     "output_type": "execute_result"
    }
   ],
   "source": [
    "# checking for swapped key tags\n",
    "\n",
    "key_tags = edges_grouped_keys.source.unique().tolist()\n",
    "\n",
    "mask_key_tags = edges_grouped_keys.target.isin(key_tags)\n",
    "\n",
    "edges_grouped_keys[mask_key_tags]"
   ]
  },
  {
   "cell_type": "markdown",
   "metadata": {
    "colab_type": "text",
    "id": "2TowGrSg99cw"
   },
   "source": [
    "**Note**\n",
    "\n",
    "The number of swapped key tags is low. These ones can be handled in Gephi later by merge operations."
   ]
  },
  {
   "cell_type": "markdown",
   "metadata": {
    "colab_type": "text",
    "id": "fPHcNtSPcUHS"
   },
   "source": [
    "## Plotting Keys Graph"
   ]
  },
  {
   "cell_type": "code",
   "execution_count": 97,
   "metadata": {
    "colab": {},
    "colab_type": "code",
    "id": "fxVjoF7ecUHd"
   },
   "outputs": [],
   "source": [
    "import matplotlib.pyplot as plt"
   ]
  },
  {
   "cell_type": "code",
   "execution_count": 98,
   "metadata": {
    "colab": {
     "base_uri": "https://localhost:8080/",
     "height": 53
    },
    "colab_type": "code",
    "executionInfo": {
     "elapsed": 11462,
     "status": "ok",
     "timestamp": 1561051970549,
     "user": {
      "displayName": "MARCOS JUNIOR",
      "photoUrl": "",
      "userId": "02126454598504023629"
     },
     "user_tz": 180
    },
    "id": "cUnzrw10cUHs",
    "outputId": "bb82fe93-0875-4c2d-aa7c-b174ed3c38ce"
   },
   "outputs": [
    {
     "name": "stdout",
     "output_type": "stream",
     "text": [
      "CPU times: user 11 µs, sys: 1e+03 ns, total: 12 µs\n",
      "Wall time: 20.7 µs\n"
     ]
    }
   ],
   "source": [
    "%%time\n",
    "\n",
    "# just to disable a long time operation\n",
    "if False :\n",
    "    \n",
    "    nx.draw(g)\n",
    "\n",
    "    plt.show()"
   ]
  },
  {
   "cell_type": "markdown",
   "metadata": {},
   "source": [
    "# Node Weights"
   ]
  },
  {
   "cell_type": "markdown",
   "metadata": {},
   "source": [
    "Another important parameter needed for a better design of the network in Gephi is the node weight.\n",
    "\n",
    "The node weight will be the frequency in which a tag is posted in the collected data."
   ]
  },
  {
   "cell_type": "markdown",
   "metadata": {},
   "source": [
    "## Calculating Weights"
   ]
  },
  {
   "cell_type": "code",
   "execution_count": 99,
   "metadata": {
    "scrolled": false
   },
   "outputs": [],
   "source": [
    "# creating a dictionary of weights\n",
    "node_weights = {}\n",
    "\n",
    "# populating the dictionary\n",
    "for person, posts in data_json.items() :\n",
    "    \n",
    "    for post in posts[:POSTS_MAX] :\n",
    "        \n",
    "        post_tags = post['tags']\n",
    "        \n",
    "        post_tags = [tag for tag in post_tags if validate_tag(tag)]\n",
    "        \n",
    "        for tag in post_tags :\n",
    "            \n",
    "            if tag in node_weights : \n",
    "                node_weights[tag] = node_weights[tag] + 1\n",
    "            else :\n",
    "                node_weights[tag] = 1"
   ]
  },
  {
   "cell_type": "code",
   "execution_count": 100,
   "metadata": {},
   "outputs": [
    {
     "data": {
      "text/plain": [
       "[('abaladissimaa', {}),\n",
       " ('cultura', {}),\n",
       " ('juizsergiomoro', {}),\n",
       " ('astrofotografia', {}),\n",
       " ('lapulga', {}),\n",
       " ('ecuador', {}),\n",
       " ('liverpool', {}),\n",
       " ('avenidapaulista', {}),\n",
       " ('gafe', {}),\n",
       " ('jessika', {})]"
      ]
     },
     "execution_count": 100,
     "metadata": {},
     "output_type": "execute_result"
    }
   ],
   "source": [
    "# checking the nodes before assign weights\n",
    "list(G.nodes(data=True))[:10]"
   ]
  },
  {
   "cell_type": "code",
   "execution_count": 101,
   "metadata": {},
   "outputs": [
    {
     "data": {
      "text/plain": [
       "[('abaladissimaa', {}),\n",
       " ('cultura', {}),\n",
       " ('juizsergiomoro', {}),\n",
       " ('astrofotografia', {}),\n",
       " ('lapulga', {}),\n",
       " ('liverpool', {}),\n",
       " ('avenidapaulista', {}),\n",
       " ('gafe', {}),\n",
       " ('jessika', {}),\n",
       " ('summer', {})]"
      ]
     },
     "execution_count": 101,
     "metadata": {},
     "output_type": "execute_result"
    }
   ],
   "source": [
    "# checking the nodes before assign weights\n",
    "list(g.nodes(data=True))[:10]"
   ]
  },
  {
   "cell_type": "code",
   "execution_count": 102,
   "metadata": {},
   "outputs": [
    {
     "data": {
      "text/plain": [
       "2796"
      ]
     },
     "execution_count": 102,
     "metadata": {},
     "output_type": "execute_result"
    }
   ],
   "source": [
    "len(G.nodes)"
   ]
  },
  {
   "cell_type": "code",
   "execution_count": 103,
   "metadata": {},
   "outputs": [
    {
     "data": {
      "text/plain": [
       "441"
      ]
     },
     "execution_count": 103,
     "metadata": {},
     "output_type": "execute_result"
    }
   ],
   "source": [
    "len(G_dropped.nodes)"
   ]
  },
  {
   "cell_type": "code",
   "execution_count": 104,
   "metadata": {
    "scrolled": true
   },
   "outputs": [
    {
     "data": {
      "text/plain": [
       "2799"
      ]
     },
     "execution_count": 104,
     "metadata": {},
     "output_type": "execute_result"
    }
   ],
   "source": [
    "len(g.nodes)"
   ]
  },
  {
   "cell_type": "markdown",
   "metadata": {},
   "source": [
    "## Assigning Weights"
   ]
  },
  {
   "cell_type": "markdown",
   "metadata": {},
   "source": [
    "### All Edges Graph"
   ]
  },
  {
   "cell_type": "code",
   "execution_count": 105,
   "metadata": {},
   "outputs": [],
   "source": [
    "nx.set_node_attributes(G, node_weights, 'weight')"
   ]
  },
  {
   "cell_type": "code",
   "execution_count": 106,
   "metadata": {},
   "outputs": [
    {
     "data": {
      "text/plain": [
       "[('abaladissimaa', {'weight': 2}),\n",
       " ('cultura', {'weight': 1}),\n",
       " ('juizsergiomoro', {'weight': 11}),\n",
       " ('astrofotografia', {'weight': 5}),\n",
       " ('lapulga', {'weight': 1}),\n",
       " ('ecuador', {'weight': 1}),\n",
       " ('liverpool', {'weight': 5}),\n",
       " ('avenidapaulista', {'weight': 1}),\n",
       " ('gafe', {'weight': 1}),\n",
       " ('jessika', {'weight': 1})]"
      ]
     },
     "execution_count": 106,
     "metadata": {},
     "output_type": "execute_result"
    }
   ],
   "source": [
    "list(G.nodes(data=True))[:10]"
   ]
  },
  {
   "cell_type": "code",
   "execution_count": 107,
   "metadata": {
    "colab": {},
    "colab_type": "code",
    "id": "aIYIQfJgcUIA"
   },
   "outputs": [],
   "source": [
    "nx.write_graphml(G, \"edges_counted_\" + str(POSTS_MAX) + \"_nw.graphml\")"
   ]
  },
  {
   "cell_type": "markdown",
   "metadata": {},
   "source": [
    "### Dropped All Edges Graph"
   ]
  },
  {
   "cell_type": "code",
   "execution_count": 108,
   "metadata": {},
   "outputs": [],
   "source": [
    "nx.set_node_attributes(G_dropped, node_weights, 'weight')"
   ]
  },
  {
   "cell_type": "code",
   "execution_count": 109,
   "metadata": {},
   "outputs": [
    {
     "data": {
      "text/plain": [
       "[('bolsonarosempre', {'weight': 8}),\n",
       " ('antoroccuzzo', {'weight': 12}),\n",
       " ('juizsergiomoro', {'weight': 11}),\n",
       " ('sbtonline', {'weight': 7}),\n",
       " ('family', {'weight': 12}),\n",
       " ('coaf', {'weight': 8}),\n",
       " ('direitaunida', {'weight': 6}),\n",
       " ('comedia', {'weight': 11}),\n",
       " ('elenao', {'weight': 149}),\n",
       " ('cartacapital', {'weight': 27})]"
      ]
     },
     "execution_count": 109,
     "metadata": {},
     "output_type": "execute_result"
    }
   ],
   "source": [
    "list(G_dropped.nodes(data=True))[:10]"
   ]
  },
  {
   "cell_type": "code",
   "execution_count": 110,
   "metadata": {
    "colab": {},
    "colab_type": "code",
    "id": "aIYIQfJgcUIA"
   },
   "outputs": [],
   "source": [
    "nx.write_graphml(G_dropped, \"edges_counted_\" + str(POSTS_MAX) + \"_dropped_nw.graphml\")"
   ]
  },
  {
   "cell_type": "markdown",
   "metadata": {},
   "source": [
    "### Key Edges Graph"
   ]
  },
  {
   "cell_type": "code",
   "execution_count": 111,
   "metadata": {},
   "outputs": [],
   "source": [
    "nx.set_node_attributes(g, node_weights, 'weight')"
   ]
  },
  {
   "cell_type": "code",
   "execution_count": 112,
   "metadata": {},
   "outputs": [
    {
     "data": {
      "text/plain": [
       "[('abaladissimaa', {'weight': 2}),\n",
       " ('cultura', {'weight': 1}),\n",
       " ('juizsergiomoro', {'weight': 11}),\n",
       " ('astrofotografia', {'weight': 5}),\n",
       " ('lapulga', {'weight': 1}),\n",
       " ('ecuador', {'weight': 1}),\n",
       " ('liverpool', {'weight': 5}),\n",
       " ('avenidapaulista', {'weight': 1}),\n",
       " ('gafe', {'weight': 1}),\n",
       " ('jessika', {'weight': 1})]"
      ]
     },
     "execution_count": 112,
     "metadata": {},
     "output_type": "execute_result"
    }
   ],
   "source": [
    "list(G.nodes(data=True))[:10]"
   ]
  },
  {
   "cell_type": "code",
   "execution_count": 113,
   "metadata": {
    "colab": {},
    "colab_type": "code",
    "id": "aIYIQfJgcUIA"
   },
   "outputs": [],
   "source": [
    "nx.write_graphml(g, \"edges_counted_keys_\" + str(POSTS_MAX) + \"_nw.graphml\")"
   ]
  },
  {
   "cell_type": "markdown",
   "metadata": {
    "colab_type": "text",
    "id": "12OMqcQ8zED2"
   },
   "source": [
    "# Discarded"
   ]
  }
 ],
 "metadata": {
  "colab": {
   "collapsed_sections": [],
   "name": "2019-06-11-1-macj-graph-scratch.ipynb",
   "provenance": [],
   "toc_visible": true,
   "version": "0.3.2"
  },
  "kernelspec": {
   "display_name": "Python 3",
   "language": "python",
   "name": "python3"
  },
  "language_info": {
   "codemirror_mode": {
    "name": "ipython",
    "version": 3
   },
   "file_extension": ".py",
   "mimetype": "text/x-python",
   "name": "python",
   "nbconvert_exporter": "python",
   "pygments_lexer": "ipython3",
   "version": "3.7.1"
  }
 },
 "nbformat": 4,
 "nbformat_minor": 1
}

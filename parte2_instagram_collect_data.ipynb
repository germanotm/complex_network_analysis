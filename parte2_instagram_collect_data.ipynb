{
 "cells": [
  {
   "cell_type": "markdown",
   "metadata": {
    "colab_type": "text",
    "id": "3AlnzwlSLcep"
   },
   "source": [
    "### README"
   ]
  },
  {
   "cell_type": "markdown",
   "metadata": {
    "colab_type": "text",
    "id": "ThqBzEGoLTwH"
   },
   "source": [
    "### Importing Modules"
   ]
  },
  {
   "cell_type": "code",
   "execution_count": 1,
   "metadata": {
    "colab": {},
    "colab_type": "code",
    "id": "Tid_jgkpM1qh"
   },
   "outputs": [],
   "source": [
    "import requests\n",
    "import time\n",
    "import re\n",
    "import unicodedata"
   ]
  },
  {
   "cell_type": "markdown",
   "metadata": {
    "colab_type": "text",
    "id": "lEXYlnZvLTwb"
   },
   "source": [
    "### Global Constants"
   ]
  },
  {
   "cell_type": "code",
   "execution_count": 12,
   "metadata": {
    "colab": {},
    "colab_type": "code",
    "id": "K3Gsb0qiMI53"
   },
   "outputs": [],
   "source": [
    "# Instagram base url preffix\n",
    "tagurl_prefix = 'https://www.instagram.com/explore/tags/'\n",
    "\n",
    "# suffix to append to tag request url to retrieve data in JSON format\n",
    "tagurl_suffix = '/?__a=1'\n",
    "\n",
    "# suffix to end cursor when requesting posts by tag\n",
    "tagurl_endcursor = '&max_id='\n",
    "\n",
    "# a generic media post preffix (concat with media shortcode to view)\n",
    "posturl_prefix = 'https://www.instagram.com/p/'"
   ]
  },
  {
   "cell_type": "markdown",
   "metadata": {
    "colab_type": "text",
    "id": "BPrDkYm1LTwn"
   },
   "source": [
    "### Defining Functions"
   ]
  },
  {
   "cell_type": "code",
   "execution_count": 3,
   "metadata": {
    "colab": {},
    "colab_type": "code",
    "id": "lGugc6tGLTwq"
   },
   "outputs": [],
   "source": [
    "import unicodedata\n",
    "\n",
    "def strip_accents(text):\n",
    "    \n",
    "    \"\"\"\n",
    "    Strip accents from input String.\n",
    "\n",
    "    :param text: The input string.\n",
    "    :type text: String.\n",
    "\n",
    "    :returns: The processed String.\n",
    "    :rtype: String.\n",
    "    \"\"\"\n",
    "    \n",
    "    try:\n",
    "        text = unicode(text, 'utf-8')\n",
    "    except (TypeError, NameError):\n",
    "        pass\n",
    "    \n",
    "    text = unicodedata.normalize('NFD', text)\n",
    "    text = text.encode('ascii', 'ignore')\n",
    "    text = text.decode(\"utf-8\")\n",
    "    \n",
    "    return str(text)"
   ]
  },
  {
   "cell_type": "code",
   "execution_count": 4,
   "metadata": {
    "colab": {},
    "colab_type": "code",
    "id": "nFOkSmkWLTwz"
   },
   "outputs": [],
   "source": [
    "import re\n",
    "\n",
    "def text2tags(text, striptag=True):\n",
    "    \n",
    "    pattern = '#\\S+'\n",
    "    \n",
    "    text = text.lower()\n",
    "    \n",
    "    #text = strip_accents(text)\n",
    "    \n",
    "    matches = re.findall(pattern, text)\n",
    "    \n",
    "    if striptag :\n",
    "        matches = [ match.replace('#','') for match in matches ]\n",
    "    \n",
    "    return matches"
   ]
  },
  {
   "cell_type": "code",
   "execution_count": 5,
   "metadata": {
    "colab": {},
    "colab_type": "code",
    "id": "D1JI8X-2nUYa"
   },
   "outputs": [],
   "source": [
    "def json2posts(json_info, infilter=False):\n",
    "\n",
    "    posts_list = json_info['graphql']['hashtag']['edge_hashtag_to_media']['edges']\n",
    "\n",
    "    posts_dicts = []\n",
    "\n",
    "    for post in posts_list:\n",
    "\n",
    "        node = post['node']\n",
    "\n",
    "        id_post = node['id']\n",
    "\n",
    "        id_owner = node['owner']['id']\n",
    "\n",
    "        shortcode = node['shortcode']\n",
    "\n",
    "        edges = node['edge_media_to_caption']['edges']\n",
    "        \n",
    "        text = edges[0]['node']['text'].replace('\\n','') if len(edges) else ''\n",
    "        \n",
    "        tags = text2tags(text)\n",
    "\n",
    "        post_url = posturl_prefix + shortcode + '/'\n",
    "\n",
    "        post_dict = {\n",
    "            'id_post': id_post,\n",
    "            'id_owner': id_owner,\n",
    "            'shortcode': shortcode,\n",
    "            'text': text,\n",
    "            'post_url': post_url,\n",
    "            'tags': tags\n",
    "        }\n",
    "        \n",
    "        if infilter :\n",
    "            if len(tags) :\n",
    "                posts_dicts.append( post_dict )\n",
    "        else:\n",
    "            pass\n",
    "    \n",
    "    else:\n",
    "        posts_dicts.append( post_dict )\n",
    "    \n",
    "    return posts_dicts"
   ]
  },
  {
   "cell_type": "code",
   "execution_count": 55,
   "metadata": {
    "colab": {},
    "colab_type": "code",
    "id": "D1eAWhBohiFR"
   },
   "outputs": [],
   "source": [
    "import requests\n",
    "import time\n",
    "\n",
    "def snowball(url, deep=1, end_cursor='', count=0, showurl=False, \n",
    "             sleep=0, forever=False, progress=False, pause=60 ):\n",
    "    \n",
    "    #There is no more posts\n",
    "    if end_cursor == None:\n",
    "        return []\n",
    "    \n",
    "    request_url = url + tagurl_endcursor + end_cursor\n",
    "\n",
    "    if showurl :\n",
    "        print(request_url)\n",
    "    else:\n",
    "        if progress :\n",
    "            print( count, end=' ' )\n",
    "    \n",
    "    while True :\n",
    "        try :\n",
    "            json_info = requests.get( request_url ).json()\n",
    "            break\n",
    "        except:\n",
    "            if forever :\n",
    "                print('Fail, retrying in ' + str(pause) + ' seconds')\n",
    "                time.sleep(pause)\n",
    "            else:\n",
    "                print('Fail, ' + str(count) + ' requests done')\n",
    "                return []\n",
    "    \n",
    "    end_cursor = json_info['graphql']['hashtag']['edge_hashtag_to_media']['page_info']['end_cursor']\n",
    "\n",
    "    posts = json2posts( json_info, True )\n",
    "\n",
    "    time.sleep(sleep)\n",
    "  \n",
    "    count = count + 1\n",
    "\n",
    "    if count < deep :\n",
    "        posts += snowball(\n",
    "            url=url, \n",
    "            deep=deep, \n",
    "            end_cursor=end_cursor, \n",
    "            count=count, \n",
    "            showurl=showurl, \n",
    "            sleep=sleep,\n",
    "            forever=forever,\n",
    "            progress=progress, \n",
    "            pause=pause)\n",
    "    else:\n",
    "        pass\n",
    "    \n",
    "    if showurl :\n",
    "        pass\n",
    "    else:\n",
    "        if progress :\n",
    "            if count == deep :\n",
    "                print()\n",
    "\n",
    "    return posts"
   ]
  },
  {
   "cell_type": "markdown",
   "metadata": {
    "colab_type": "text",
    "id": "z2O02EqyLTxN"
   },
   "source": [
    "### Collecting Data"
   ]
  },
  {
   "cell_type": "code",
   "execution_count": 41,
   "metadata": {
    "colab": {},
    "colab_type": "code",
    "id": "o-MAqIYZLWaY"
   },
   "outputs": [],
   "source": [
    "# target initial tags\n",
    "tags = [ 'radiologiaodontologica','tevejopordentro','odontologia','dentalradiology','dentista','dentistaradiologista','ctbmf','radiografiapanoramica','tomografiaconebeam','endodontia','tcfc','cirurgiabucomaxilofacial','implantes','radiografiaperiapical','dente','implantodontista','dentist','terceirosmolares','patology','dilaceraçãoradicular','cistodentígero','implantodontia','thirdmolar' ]"
   ]
  },
  {
   "cell_type": "code",
   "execution_count": 42,
   "metadata": {
    "colab": {},
    "colab_type": "code",
    "id": "tYszKu8aLTxa"
   },
   "outputs": [],
   "source": [
    "# urls to initial tags\n",
    "queries = [ tagurl_prefix + tag + tagurl_suffix for tag in tags ]"
   ]
  },
  {
   "cell_type": "code",
   "execution_count": 56,
   "metadata": {
    "colab": {},
    "colab_type": "code",
    "id": "Ktu0rwpkLTxr",
    "outputId": "2932762c-3f61-480c-bd2b-28f7ad5c8cb5",
    "scrolled": true
   },
   "outputs": [
    {
     "name": "stdout",
     "output_type": "stream",
     "text": [
      "Querying radiografiaperiapical...\n",
      "0 1 2 3 4 5 6 7 8 9 10 11 12 13 14 15 16 17 18 Done\n",
      "Querying dente...\n",
      "0 1 2 3 4 5 6 7 8 9 10 11 12 13 14 15 16 17 18 19 20 21 22 23 24 25 26 27 28 29 30 31 32 33 34 35 36 37 38 39 \n",
      "Done\n",
      "Querying implantodontista...\n",
      "0 1 2 3 4 5 6 7 8 9 10 11 12 13 14 15 16 17 18 19 20 21 22 23 24 25 26 27 28 29 30 31 32 33 34 35 36 37 38 39 \n",
      "Done\n",
      "Querying dentist...\n",
      "0 1 2 3 4 5 6 7 8 9 10 11 12 13 14 15 16 17 18 19 20 21 22 23 24 25 26 27 28 29 30 31 32 33 34 35 36 37 38 39 \n",
      "Done\n",
      "Querying terceirosmolares...\n",
      "0 1 2 3 4 5 6 7 8 9 10 11 12 13 14 15 16 17 18 19 20 21 22 23 24 25 26 27 28 29 30 31 32 33 Done\n",
      "Querying patology...\n",
      "0 1 2 3 4 5 6 7 8 9 10 11 12 13 14 15 16 17 18 19 20 21 22 23 24 25 26 27 28 29 30 31 32 33 34 35 36 37 38 39 \n",
      "Done\n",
      "Querying dilaceraçãoradicular...\n",
      "0 1 Done\n",
      "Querying cistodentígero...\n",
      "0 Done\n",
      "Querying implantodontia...\n",
      "0 1 2 3 4 5 6 7 8 9 10 11 12 13 14 15 16 17 18 19 20 21 22 23 24 25 26 27 28 29 30 31 32 33 34 35 36 37 38 39 \n",
      "Done\n",
      "Querying thirdmolar...\n",
      "0 1 2 3 4 5 6 7 8 9 10 11 12 13 14 15 16 17 18 19 20 21 22 23 24 25 26 27 28 29 30 31 32 33 34 35 36 37 38 39 \n",
      "Done\n",
      "CPU times: user 15.9 s, sys: 760 ms, total: 16.6 s\n",
      "Wall time: 21min 5s\n"
     ]
    }
   ],
   "source": [
    "%%time\n",
    "\n",
    "# data = {}\n",
    "\n",
    "for tag, query in zip( tags, queries ) :\n",
    "    \n",
    "    print( 'Querying ' + tag + '...' )\n",
    "    \n",
    "    posts = snowball(query, deep=40, forever=True, sleep=1, pause=60, progress=True)\n",
    "    \n",
    "    data[tag] = posts\n",
    "    \n",
    "    print( 'Done' )\n",
    "    \n",
    "    time.sleep(30)"
   ]
  },
  {
   "cell_type": "code",
   "execution_count": 59,
   "metadata": {
    "colab": {},
    "colab_type": "code",
    "id": "Uqz4H_l-LTx-",
    "outputId": "8842ffe7-809a-42ee-98de-3640d944af39",
    "scrolled": true
   },
   "outputs": [
    {
     "name": "stdout",
     "output_type": "stream",
     "text": [
      "radiologiaodontologica 2496\n",
      "tevejopordentro 2866\n",
      "odontologia 2618\n",
      "dentalradiology 2772\n",
      "dentista 2505\n",
      "dentistaradiologista 2823\n",
      "ctbmf 2526\n",
      "radiografiapanoramica 2641\n",
      "tomografiaconebeam 2493\n",
      "endodontia 2673\n",
      "tcfc 2818\n",
      "cirurgiabucomaxilofacial 2537\n",
      "implantes 2446\n",
      "radiografiaperiapical 1280\n",
      "dente 2553\n",
      "implantodontista 2377\n",
      "dentist 2482\n",
      "terceirosmolares 2227\n",
      "patology 2720\n",
      "dilaceraçãoradicular 138\n",
      "cistodentígero 60\n",
      "implantodontia 2483\n",
      "thirdmolar 2731\n"
     ]
    }
   ],
   "source": [
    "# checking number of medias\n",
    "for key, posts in data.items() :\n",
    "    \n",
    "    print(key, len(posts))"
   ]
  },
  {
   "cell_type": "code",
   "execution_count": 60,
   "metadata": {
    "colab": {},
    "colab_type": "code",
    "id": "KN8sddWqLTyJ"
   },
   "outputs": [],
   "source": [
    "import json\n",
    "\n",
    "# saving data to a JSON file\n",
    "f = open('data.json', 'w')\n",
    "json.dump(data, f)\n",
    "f.close()"
   ]
  },
  {
   "cell_type": "markdown",
   "metadata": {
    "colab_type": "text",
    "id": "4q4qQ-kVLTyP"
   },
   "source": [
    "### Filtering Data"
   ]
  },
  {
   "cell_type": "markdown",
   "metadata": {
    "colab_type": "text",
    "id": "plw1d7vbM4NN"
   },
   "source": [
    "This code is a plus. The function `json2posts` has the boolean attribute `infilter`, which filters and drops out the posts with no tags.\n",
    "\n",
    "In case this attribute is `False` (not recommended), we can check the non-tagged posts here. "
   ]
  },
  {
   "cell_type": "code",
   "execution_count": 61,
   "metadata": {
    "colab": {},
    "colab_type": "code",
    "id": "E4ZJUgGULTyR"
   },
   "outputs": [
    {
     "ename": "NameError",
     "evalue": "name 'media' is not defined",
     "output_type": "error",
     "traceback": [
      "\u001b[0;31m---------------------------------------------------------------------------\u001b[0m",
      "\u001b[0;31mNameError\u001b[0m                                 Traceback (most recent call last)",
      "\u001b[0;32m<ipython-input-61-2fc1b486a4c7>\u001b[0m in \u001b[0;36m<module>\u001b[0;34m\u001b[0m\n\u001b[1;32m     10\u001b[0m             \u001b[0;32mpass\u001b[0m\u001b[0;34m\u001b[0m\u001b[0;34m\u001b[0m\u001b[0m\n\u001b[1;32m     11\u001b[0m         \u001b[0;32melse\u001b[0m\u001b[0;34m:\u001b[0m\u001b[0;34m\u001b[0m\u001b[0;34m\u001b[0m\u001b[0m\n\u001b[0;32m---> 12\u001b[0;31m             \u001b[0mprint\u001b[0m\u001b[0;34m(\u001b[0m\u001b[0mpost\u001b[0m\u001b[0;34m[\u001b[0m\u001b[0;34m'post_url'\u001b[0m\u001b[0;34m]\u001b[0m\u001b[0;34m,\u001b[0m \u001b[0mmedia\u001b[0m\u001b[0;34m[\u001b[0m\u001b[0;34m'text'\u001b[0m\u001b[0;34m]\u001b[0m\u001b[0;34m)\u001b[0m\u001b[0;34m\u001b[0m\u001b[0;34m\u001b[0m\u001b[0m\n\u001b[0m",
      "\u001b[0;31mNameError\u001b[0m: name 'media' is not defined"
     ]
    }
   ],
   "source": [
    "# checking non-tagged medias\n",
    "\n",
    "for key, posts in data.items():\n",
    "    \n",
    "    for post in posts:\n",
    "        \n",
    "        tags = post['tags']\n",
    "        \n",
    "        if len(tags) :\n",
    "            pass\n",
    "        else:\n",
    "            print(post['post_url'], media['text'])"
   ]
  },
  {
   "cell_type": "markdown",
   "metadata": {
    "colab_type": "text",
    "id": "gBYK-QVz_63H"
   },
   "source": [
    "### Development"
   ]
  },
  {
   "cell_type": "markdown",
   "metadata": {},
   "source": [
    "This section is for development process and can be disconsidered."
   ]
  },
  {
   "cell_type": "code",
   "execution_count": 0,
   "metadata": {
    "colab": {},
    "colab_type": "code",
    "id": "tPcSX-d2AnnR"
   },
   "outputs": [],
   "source": [
    "import requests\n",
    "import time\n",
    "\n",
    "# from tqdm import tqdm, tnrange\n",
    "from tqdm import tqdm_notebook as tqdm\n",
    "\n",
    "def snowball(url, deep=1, end_cursor='', count=0, showurl=False, \n",
    "             sleep=0, forever=False, progress=False, pause=60, pbar=None ):\n",
    "    \n",
    "    if pbar is None :\n",
    "        pbar = tqdm(total=deep)\n",
    "\n",
    "    request_url = url + tagurl_endcursor + end_cursor\n",
    "\n",
    "    if showurl :\n",
    "        print(request_url)\n",
    "    else:\n",
    "        if progress :\n",
    "            pbar.update()\n",
    "    \n",
    "    while True :\n",
    "        try :\n",
    "            json_info = requests.get( request_url ).json()\n",
    "            break\n",
    "        except:\n",
    "            if forever :\n",
    "                print('Fail, retrying in ' + str(pause) + ' seconds...', end=' ')\n",
    "                time.sleep(pause)\n",
    "                print('Go!')\n",
    "            else:\n",
    "                print('Fail, ' + str(count) + ' requests done')\n",
    "                return []\n",
    "    \n",
    "    end_cursor = json_info['graphql']['hashtag']['edge_hashtag_to_media']['page_info']['end_cursor']\n",
    "\n",
    "    medias = json2medias( json_info, True )\n",
    "\n",
    "    time.sleep(sleep)\n",
    "  \n",
    "    count = count + 1\n",
    "\n",
    "    if count < deep :\n",
    "        medias += snowball(\n",
    "            url=url, \n",
    "            deep=deep, \n",
    "            end_cursor=end_cursor, \n",
    "            count=count, \n",
    "            showurl=showurl, \n",
    "            sleep=sleep,\n",
    "            forever=forever,\n",
    "            progress=progress, \n",
    "            pause=pause,\n",
    "            pbar=pbar)\n",
    "    else:\n",
    "        pass\n",
    "    \n",
    "    if showurl :\n",
    "        pass\n",
    "    else:\n",
    "        if progress :\n",
    "            if count == deep :\n",
    "                pass\n",
    "                print()\n",
    "\n",
    "    return medias"
   ]
  },
  {
   "cell_type": "code",
   "execution_count": 78,
   "metadata": {
    "colab": {
     "base_uri": "https://localhost:8080/",
     "height": 680
    },
    "colab_type": "code",
    "executionInfo": {
     "elapsed": 162902,
     "status": "ok",
     "timestamp": 1560871211720,
     "user": {
      "displayName": "MARCOS JUNIOR",
      "photoUrl": "",
      "userId": "02126454598504023629"
     },
     "user_tz": 180
    },
    "id": "jX9Yq5GSB4mt",
    "outputId": "2347135d-817e-4ea4-db0e-6c8227b17785",
    "scrolled": true
   },
   "outputs": [
    {
     "data": {
      "application/vnd.jupyter.widget-view+json": {
       "model_id": "1c1dec15443a4e37902aff07f79b9217",
       "version_major": 2,
       "version_minor": 0
      },
      "text/plain": [
       "HBox(children=(IntProgress(value=0, max=5), HTML(value='')))"
      ]
     },
     "metadata": {
      "tags": []
     },
     "output_type": "display_data"
    },
    {
     "name": "stdout",
     "output_type": "stream",
     "text": [
      "Fail, retrying in 60 seconds... Go!\n",
      "Fail, retrying in 60 seconds... Go!\n",
      "\n"
     ]
    },
    {
     "data": {
      "text/plain": [
       "{'id_media': '2069048540710857446',\n",
       " 'id_owner': '431798494',\n",
       " 'mediaurl': 'https://www.instagram.com/p/By2vK98HGrm/',\n",
       " 'shortcode': 'By2vK98HGrm',\n",
       " 'tags': ['morotraidordapatria',\n",
       "  'infuxwetrust',\n",
       "  'libertemlula',\n",
       "  'morocriminoso',\n",
       "  'moronacadeia',\n",
       "  'dallagnolnacadeia',\n",
       "  'lulalivreja',\n",
       "  'lulanobeldapaz2019',\n",
       "  'lula',\n",
       "  'lulalivre',\n",
       "  'lulalibre',\n",
       "  'lulavalealuta',\n",
       "  'lulapresidente',\n",
       "  'freelula',\n",
       "  'lulainocente',\n",
       "  'eusoulula',\n",
       "  'lula2018',\n",
       "  'lulapresopolitico',\n",
       "  'partidodostrabalhadores',\n",
       "  'haddad',\n",
       "  'haddad13',\n",
       "  'haddadpresidente',\n",
       "  'obrasilfelizdenovo',\n",
       "  'mulherescontrabolsonaro',\n",
       "  'elenao',\n",
       "  'elenao',\n",
       "  'elenunca',\n",
       "  'elejamais'],\n",
       " 'text': 'VÍDEO PARA QUEM AINDA NÃO ENTENDEU A ATUAÇÃO DO MORO NO PROCESSO DO LULABANDIDO BOM É BANDIDO MORO!!! #morotraidordapatria #infuxwetrust #libertemlula #morocriminoso #moronacadeia #dallagnolnacadeia #lulalivreja #lulanobeldapaz2019 #lula #lulalivre #lulalibre #lulavalealuta #lulapresidente #freelula #lulainocente #eusoulula #lula2018 #lulapresopolitico #partidodostrabalhadores #haddad #haddad13 #haddadpresidente #obrasilfelizdenovo #mulherescontrabolsonaro #elenão #elenao #elenunca #elejamais'}"
      ]
     },
     "execution_count": 78,
     "metadata": {
      "tags": []
     },
     "output_type": "execute_result"
    }
   ],
   "source": [
    "snowball(queries[1], deep=5, progress=True, forever=True)[0]"
   ]
  }
 ],
 "metadata": {
  "colab": {
   "collapsed_sections": [],
   "name": "2019-06-10-2-macj-collecting-data.ipynb",
   "provenance": [],
   "toc_visible": true,
   "version": "0.3.2"
  },
  "kernelspec": {
   "display_name": "Python 3",
   "language": "python",
   "name": "python3"
  },
  "language_info": {
   "codemirror_mode": {
    "name": "ipython",
    "version": 3
   },
   "file_extension": ".py",
   "mimetype": "text/x-python",
   "name": "python",
   "nbconvert_exporter": "python",
   "pygments_lexer": "ipython3",
   "version": "3.7.1"
  },
  "toc": {
   "base_numbering": 1,
   "nav_menu": {},
   "number_sections": true,
   "sideBar": true,
   "skip_h1_title": false,
   "title_cell": "Table of Contents",
   "title_sidebar": "Contents",
   "toc_cell": false,
   "toc_position": {},
   "toc_section_display": true,
   "toc_window_display": false
  }
 },
 "nbformat": 4,
 "nbformat_minor": 1
}
